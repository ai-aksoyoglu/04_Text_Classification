{
 "cells": [
  {
   "cell_type": "markdown",
   "metadata": {},
   "source": [
    "<h2 align=\"center\">Predicting the artist from text \n",
    "    <h2 align=\"center\">using Web Scraping and a Naive Bayes classifier\n",
    "</h2>\n",
    "    \n",
    "    \n",
    "__1) The Goal:__ Build a text classification model to predict the artist from a piece of text. \n",
    "    \n",
    "__2) Get the Data:__ Download HTML pages, Get a list of song urls, Extract lyrics from song urls\n",
    "    \n",
    "__3) Split the Data:__ As usual.  \n",
    "\n",
    "__4) Exploratory Data Analysis (EDA):__ No need for EDA here.\n",
    "\n",
    "__5)-9) Feature Engineering (FE), Train Model, Optimize Hyperparameters/Cross-Validation:__ Convert text to numbers by applying the Bag Of Words method; Build and train a Naive Bayes classifier; Balance out the dataset.\n",
    "\n",
    "__10) Calculate Test Score__ \n",
    "    \n",
    "__11) Deploy and Monitor:__   Write a command-line interface\n"
   ]
  },
  {
   "cell_type": "markdown",
   "metadata": {},
   "source": [
    "------------------"
   ]
  },
  {
   "cell_type": "markdown",
   "metadata": {},
   "source": [
    "<h2 align=\"center\"><strong>Getting the data: Web Scraping</strong></h2>"
   ]
  },
  {
   "cell_type": "code",
   "execution_count": 160,
   "metadata": {},
   "outputs": [],
   "source": [
    "import requests\n",
    "from bs4 import BeautifulSoup\n",
    "from bs4 import SoupStrainer"
   ]
  },
  {
   "cell_type": "markdown",
   "metadata": {},
   "source": [
    "### Step 1. Get the raw HTML text from the target website"
   ]
  },
  {
   "cell_type": "code",
   "execution_count": 171,
   "metadata": {},
   "outputs": [
    {
     "data": {
      "text/plain": [
       "requests.models.Response"
      ]
     },
     "execution_count": 171,
     "metadata": {},
     "output_type": "execute_result"
    }
   ],
   "source": [
    "type(requests.get('https://www.metrolyrics.com/' + artist + '-alpage-1.html')) #.text is a string"
   ]
  },
  {
   "cell_type": "code",
   "execution_count": 2,
   "metadata": {},
   "outputs": [],
   "source": [
    "artist = 'michael-jackson'\n",
    "\n",
    "with open('mj_page1.html', 'w') as file:\n",
    "    file.write(requests.get('https://www.metrolyrics.com/' + artist + '-alpage-1.html').text)"
   ]
  },
  {
   "cell_type": "code",
   "execution_count": 3,
   "metadata": {},
   "outputs": [
    {
     "name": "stdout",
     "output_type": "stream",
     "text": [
      "['http://www.metrolyrics.com/michael-jackson-alpage-1.html', 'http://www.metrolyrics.com/michael-jackson-alpage-2.html', 'http://www.metrolyrics.com/michael-jackson-alpage-3.html', 'http://www.metrolyrics.com/michael-jackson-alpage-4.html', 'http://www.metrolyrics.com/michael-jackson-alpage-5.html', 'http://www.metrolyrics.com/michael-jackson-alpage-6.html']\n"
     ]
    }
   ],
   "source": [
    "with open('mj_page1.html', 'r') as file:\n",
    "    soup = BeautifulSoup(markup=file)\n",
    "    \n",
    "pages = []\n",
    "for link in soup.find_all(class_ = 'pages')[0].find_all('a'):\n",
    "    pages.append(link.get('href'))\n",
    "\n",
    "print(pages)"
   ]
  },
  {
   "cell_type": "raw",
   "metadata": {},
   "source": [
    "### Takes a long time. don't run !\n",
    "\n",
    "for i in range(len(pages)):\n",
    "    with open('mj_page'+str(i+1)+'.html', 'w') as file:\n",
    "        file.write(requests.get(pages[i]).text)"
   ]
  },
  {
   "cell_type": "code",
   "execution_count": 17,
   "metadata": {},
   "outputs": [
    {
     "name": "stdout",
     "output_type": "stream",
     "text": [
      "402\n",
      "6\n"
     ]
    }
   ],
   "source": [
    "mj_links = []\n",
    "for i in range(len(pages)):\n",
    "    with open('mj_page'+str(i+1)+'.html', 'r') as file:\n",
    "        soup = BeautifulSoup(markup=file)\n",
    "    \n",
    "        for div in soup.find_all('div', attrs={'class':'module', 'id': 'popular'}):\n",
    "            for td in div.find_all('td'):\n",
    "                if td.a is not None:\n",
    "                    mj_links.append(td.a.get('href'))\n",
    "\n",
    "print(len(mj_links)) \n",
    "print(len(pages))"
   ]
  },
  {
   "cell_type": "raw",
   "metadata": {},
   "source": [
    "### Takes a long time. don't run !\n",
    "\n",
    "mj_lyrics = []     \n",
    "\n",
    "for link in mj_links:\n",
    "    \n",
    "    soup = BeautifulSoup(markup=requests.get(link).text)\n",
    "    #lyrics_section = soup.find(attrs={'class': 'module', 'id':'popular'})\n",
    "    lyrics_chunk = []\n",
    "    for verse in soup.find_all('p', class_='verse'):\n",
    "        for string in verse.stripped_strings:\n",
    "            lyrics_chunk.append(string)\n",
    "\n",
    "    mj_lyrics = mj_lyrics+lyrics_chunk#.append((' '.join(lyrics_chunk), 'michael jackson'))\n",
    "\n",
    "with open('mj_lyrics.txt', 'w') as file:\n",
    "    for i in range(len(mj_lyrics)):\n",
    "        file.write(mj_lyrics[i] + '\\n')"
   ]
  },
  {
   "cell_type": "code",
   "execution_count": 180,
   "metadata": {},
   "outputs": [
    {
     "data": {
      "text/plain": [
       "(402, 20556)"
      ]
     },
     "execution_count": 180,
     "metadata": {},
     "output_type": "execute_result"
    }
   ],
   "source": [
    "len(mj_links), len(mj_lyrics)"
   ]
  },
  {
   "cell_type": "code",
   "execution_count": 178,
   "metadata": {},
   "outputs": [],
   "source": [
    "# Run this to use mj_lyrics !\n",
    "\n",
    "with open('mj_lyrics.txt', 'r') as f:\n",
    "    mj_lyrics = [line.rstrip() for line in f]"
   ]
  },
  {
   "cell_type": "code",
   "execution_count": 280,
   "metadata": {},
   "outputs": [
    {
     "name": "stdout",
     "output_type": "stream",
     "text": [
      "[('a', 4), ('b', 3), ('c', 2), ('a', 1)]\n"
     ]
    }
   ],
   "source": [
    "given = 'aaaabbbcca'\n",
    "result = []\n",
    "\n",
    "i = 0\n",
    "count = 0\n",
    "\n",
    "for l in given:\n",
    "    if l == given[i]:\n",
    "        count = count + 1   \n",
    "    else:\n",
    "        i = i + count\n",
    "        new_count = 0\n",
    "        count = new_count + 1\n",
    "    result.append((l,count))\n",
    "\n",
    "tuple_result = []\n",
    "for i in range((len(result))):\n",
    "    if (i+1) < len(result):\n",
    "        if result[i][0] == result[i+1][0]:\n",
    "            continue\n",
    "        else:\n",
    "            tuple_result.append(result[i])\n",
    "            continue\n",
    "    else:\n",
    "        tuple_result.append(result[len(result)-1])\n",
    "\n",
    "print(tuple_result)"
   ]
  },
  {
   "cell_type": "code",
   "execution_count": null,
   "metadata": {},
   "outputs": [],
   "source": []
  },
  {
   "cell_type": "code",
   "execution_count": null,
   "metadata": {},
   "outputs": [],
   "source": []
  },
  {
   "cell_type": "code",
   "execution_count": null,
   "metadata": {},
   "outputs": [],
   "source": []
  },
  {
   "cell_type": "code",
   "execution_count": 181,
   "metadata": {},
   "outputs": [
    {
     "ename": "SyntaxError",
     "evalue": "invalid syntax (<ipython-input-181-ce655a6a3e55>, line 1)",
     "output_type": "error",
     "traceback": [
      "\u001b[0;36m  File \u001b[0;32m\"<ipython-input-181-ce655a6a3e55>\"\u001b[0;36m, line \u001b[0;32m1\u001b[0m\n\u001b[0;31m    bsjgefue =\u001b[0m\n\u001b[0m               ^\u001b[0m\n\u001b[0;31mSyntaxError\u001b[0m\u001b[0;31m:\u001b[0m invalid syntax\n"
     ]
    }
   ],
   "source": [
    "bsjgefue = \n",
    "print(bsjgefue)"
   ]
  },
  {
   "cell_type": "code",
   "execution_count": 194,
   "metadata": {},
   "outputs": [
    {
     "name": "stdout",
     "output_type": "stream",
     "text": [
      "[<html><body><p>http://www.metrolyrics.com/michael-jackson-alpage-1.html</p></body></html>, <html><body><p>http://www.metrolyrics.com/michael-jackson-alpage-2.html</p></body></html>, <html><body><p>http://www.metrolyrics.com/michael-jackson-alpage-3.html</p></body></html>, <html><body><p>http://www.metrolyrics.com/michael-jackson-alpage-4.html</p></body></html>, <html><body><p>http://www.metrolyrics.com/michael-jackson-alpage-5.html</p></body></html>, <html><body><p>http://www.metrolyrics.com/michael-jackson-alpage-6.html</p></body></html>]\n"
     ]
    }
   ],
   "source": [
    "soup___________ = [BeautifulSoup(markup=markup) for markup in pages]\n",
    "print(soup___________)\n"
   ]
  },
  {
   "cell_type": "code",
   "execution_count": null,
   "metadata": {},
   "outputs": [],
   "source": []
  },
  {
   "cell_type": "code",
   "execution_count": null,
   "metadata": {},
   "outputs": [],
   "source": []
  },
  {
   "cell_type": "code",
   "execution_count": null,
   "metadata": {},
   "outputs": [],
   "source": []
  },
  {
   "cell_type": "code",
   "execution_count": null,
   "metadata": {},
   "outputs": [],
   "source": []
  },
  {
   "cell_type": "raw",
   "metadata": {},
   "source": [
    "mj_1page = requests.get('https://www.metrolyrics.com/michael-jackson-alpage-1.html')\n",
    "\n",
    "with open('file.html', 'w') as file:\n",
    "    file.write(mj_1page.text)\n",
    "    \n",
    "mj_1page.text[:100]"
   ]
  },
  {
   "cell_type": "markdown",
   "metadata": {},
   "source": [
    "### Step 2. Convert the raw HTML string to a BeautifulSoup-object, so that we can parse the data."
   ]
  },
  {
   "cell_type": "code",
   "execution_count": 14,
   "metadata": {
    "collapsed": true,
    "jupyter": {
     "outputs_hidden": true
    }
   },
   "outputs": [
    {
     "data": {
      "text/plain": [
       "[<span class=\"pages\">\n",
       " <a class=\"current\" href=\"http://www.metrolyrics.com/michael-jackson-alpage-1.html\" onmousedown=\"ev('Page','1');\">\n",
       " 1\t</a>\n",
       " <a href=\"http://www.metrolyrics.com/michael-jackson-alpage-2.html\" onmousedown=\"ev('Page','2');\">\n",
       " 2\t</a>\n",
       " <a href=\"http://www.metrolyrics.com/michael-jackson-alpage-3.html\" onmousedown=\"ev('Page','3');\">\n",
       " 3\t</a>\n",
       " <a href=\"http://www.metrolyrics.com/michael-jackson-alpage-4.html\" onmousedown=\"ev('Page','4');\">\n",
       " 4\t</a>\n",
       " <a href=\"http://www.metrolyrics.com/michael-jackson-alpage-5.html\" onmousedown=\"ev('Page','5');\">\n",
       " 5\t</a>\n",
       " <a href=\"http://www.metrolyrics.com/michael-jackson-alpage-6.html\" onmousedown=\"ev('Page','6');\">\n",
       " 6\t</a>\n",
       " </span>]"
      ]
     },
     "execution_count": 14,
     "metadata": {},
     "output_type": "execute_result"
    }
   ],
   "source": [
    "mj_1page_soup = BeautifulSoup(mj_1page.text, 'html.parser')\n",
    "mj_1page_soup.find_all(class_ = 'pages')"
   ]
  },
  {
   "cell_type": "markdown",
   "metadata": {},
   "source": [
    "### Step 3. Use the BeautifulSoup object to parse the HTML document tree down to the tag that contains the data you want.\n",
    "- There are multiple ways to get to the solution!\n",
    "- `.find()` always returns the first instance of your \"query\"\n",
    "- `.find_all()` returns a list-like object (called a \"ResultSet\") that contains the matching results.\n",
    "- `.text` returns the actual part of the tag that is outside of the **< angled brackets  >** (i.e. the text)"
   ]
  },
  {
   "cell_type": "code",
   "execution_count": 15,
   "metadata": {
    "collapsed": true,
    "jupyter": {
     "outputs_hidden": true
    }
   },
   "outputs": [
    {
     "data": {
      "text/plain": [
       "['\\n\\n1\\t\\n\\n2\\t\\n\\n3\\t\\n\\n4\\t\\n\\n5\\t\\n\\n6\\t\\n']"
      ]
     },
     "execution_count": 15,
     "metadata": {},
     "output_type": "execute_result"
    }
   ],
   "source": [
    "tag_list = []\n",
    "for tag in mj_1page_soup.find_all(class_ = 'pages'):\n",
    "    #print(tag.text)\n",
    "    tag_list.append(tag.text)\n",
    "tag_list"
   ]
  },
  {
   "cell_type": "code",
   "execution_count": 16,
   "metadata": {
    "collapsed": true,
    "jupyter": {
     "outputs_hidden": true
    }
   },
   "outputs": [
    {
     "name": "stdout",
     "output_type": "stream",
     "text": [
      "6 ['http://www.metrolyrics.com/michael-jackson-alpage-1.html', 'http://www.metrolyrics.com/michael-jackson-alpage-2.html', 'http://www.metrolyrics.com/michael-jackson-alpage-3.html', 'http://www.metrolyrics.com/michael-jackson-alpage-4.html', 'http://www.metrolyrics.com/michael-jackson-alpage-5.html', 'http://www.metrolyrics.com/michael-jackson-alpage-6.html']\n"
     ]
    }
   ],
   "source": [
    "pages = []\n",
    "for link in mj_1page_soup.find_all(class_ = 'pages')[0].find_all('a'):\n",
    "    \n",
    "    pages.append(link.get('href'))\n",
    "    \n",
    "print(len(pages),pages)"
   ]
  },
  {
   "cell_type": "markdown",
   "metadata": {},
   "source": [
    "-------------------------------"
   ]
  },
  {
   "cell_type": "markdown",
   "metadata": {},
   "source": [
    "### So you've spent a lot of time writing useful code...Now what?"
   ]
  },
  {
   "cell_type": "code",
   "execution_count": 17,
   "metadata": {},
   "outputs": [],
   "source": [
    "artist = 'michael-jackson'\n",
    "url = 'https://www.metrolyrics.com/' + artist + '-alpage-1.html'\n",
    "\n",
    "response = requests.get(url)\n",
    "\n",
    "soup = BeautifulSoup(markup=response.text)"
   ]
  },
  {
   "cell_type": "code",
   "execution_count": 18,
   "metadata": {},
   "outputs": [],
   "source": [
    "mj_links = []\n",
    "for div in soup.find_all('div', attrs={'class':'module', 'id': 'popular'}):\n",
    "    #print('here')\n",
    "    for td in div.find_all('td'):\n",
    "        if td.a is not None:\n",
    "            mj_links.append(td.a.get('href'))"
   ]
  },
  {
   "cell_type": "code",
   "execution_count": 19,
   "metadata": {},
   "outputs": [],
   "source": [
    "mj_lyrics = []\n",
    "for li in mj_links[:10]:\n",
    "    response = requests.get(li)\n",
    "    soup2 = BeautifulSoup(markup=response.text)\n",
    "    #lyrics_section = soup2.find(attrs={'class': 'module', 'id':'popular'})\n",
    "    lyrics_chunk = []\n",
    "    for verse in soup2.find_all('p', class_='verse'):\n",
    "        lyrics_chunk.append(verse.text)\n",
    "        \n",
    "    mj_lyrics.append((' '.join(lyrics_chunk), 'michael jackson'))"
   ]
  },
  {
   "cell_type": "markdown",
   "metadata": {},
   "source": [
    "### Saving the list of all the Michael Jackson lyrics as a binary data stream."
   ]
  },
  {
   "cell_type": "code",
   "execution_count": 25,
   "metadata": {},
   "outputs": [],
   "source": [
    "import pickle\n",
    "\n",
    "with open('mj_lyrics_binary.txt', 'wb') as filehandle:\n",
    "    pickle.dump(mj_lyrics, filehandle)"
   ]
  },
  {
   "cell_type": "markdown",
   "metadata": {},
   "source": [
    "### Reading the list of all Michael Jackson lyrics from the binary data file."
   ]
  },
  {
   "cell_type": "code",
   "execution_count": 24,
   "metadata": {},
   "outputs": [
    {
     "data": {
      "text/plain": [
       "(list, 10)"
      ]
     },
     "execution_count": 24,
     "metadata": {},
     "output_type": "execute_result"
    }
   ],
   "source": [
    "with open('mj_lyrics_binary.txt', 'rb') as filehandle:\n",
    "    test_binary = pickle.load(filehandle)\n",
    "    \n",
    "type(test_binary), len(test_binary)"
   ]
  },
  {
   "cell_type": "code",
   "execution_count": 22,
   "metadata": {},
   "outputs": [
    {
     "data": {
      "text/plain": [
       "(list, 10)"
      ]
     },
     "execution_count": 22,
     "metadata": {},
     "output_type": "execute_result"
    }
   ],
   "source": [
    "type(mj_lyrics), len(mj_lyrics)"
   ]
  },
  {
   "cell_type": "code",
   "execution_count": null,
   "metadata": {},
   "outputs": [],
   "source": []
  },
  {
   "cell_type": "markdown",
   "metadata": {},
   "source": [
    "### Saving and reading the list of all the Michael Jackson lyrics as JavaScript Objecct Notation (JSON)."
   ]
  },
  {
   "cell_type": "code",
   "execution_count": 26,
   "metadata": {},
   "outputs": [],
   "source": [
    "import json\n",
    "\n",
    "with open('mj_lyrics_json.txt', 'w') as filehandle:\n",
    "    json.dump(mj_lyrics, filehandle)"
   ]
  },
  {
   "cell_type": "code",
   "execution_count": 30,
   "metadata": {},
   "outputs": [
    {
     "data": {
      "text/plain": [
       "(list, 10)"
      ]
     },
     "execution_count": 30,
     "metadata": {},
     "output_type": "execute_result"
    }
   ],
   "source": [
    "with open('mj_lyrics_json.txt', 'r') as filehandle:\n",
    "    test_json = json.load(filehandle)\n",
    "\n",
    "type(test_json), len(test_json)"
   ]
  },
  {
   "cell_type": "markdown",
   "metadata": {},
   "source": [
    "----------------"
   ]
  },
  {
   "cell_type": "markdown",
   "metadata": {},
   "source": [
    "---------------"
   ]
  },
  {
   "cell_type": "code",
   "execution_count": 31,
   "metadata": {},
   "outputs": [],
   "source": [
    "artist = 'mariah-carey'\n",
    "url = 'https://www.metrolyrics.com/' + artist + '-alpage-1.html'\n",
    "\n",
    "response = requests.get(url)\n",
    "\n",
    "soup = BeautifulSoup(markup=response.text)"
   ]
  },
  {
   "cell_type": "code",
   "execution_count": 32,
   "metadata": {},
   "outputs": [],
   "source": [
    "mc_links = []\n",
    "for div in soup.find_all('div', attrs={'class':'module', 'id': 'popular'}):\n",
    "    #print('here')\n",
    "    for td in div.find_all('td'):\n",
    "        if td.a is not None:\n",
    "            mc_links.append(td.a.get('href'))"
   ]
  },
  {
   "cell_type": "code",
   "execution_count": 33,
   "metadata": {},
   "outputs": [],
   "source": [
    "mc_lyrics = []\n",
    "for li in mc_links[:10]:\n",
    "    response = requests.get(li)\n",
    "    soup2 = BeautifulSoup(markup=response.text)\n",
    "    #lyrics_section = soup2.find(attrs={'class': 'module', 'id':'popular'})\n",
    "    lyrics_chunk = []\n",
    "    for verse in soup2.find_all('p', class_='verse'):\n",
    "        lyrics_chunk.append(verse.text)\n",
    "        \n",
    "    mc_lyrics.append((' '.join(lyrics_chunk), 'mariah carey'))"
   ]
  },
  {
   "cell_type": "code",
   "execution_count": 102,
   "metadata": {},
   "outputs": [
    {
     "data": {
      "text/plain": [
       "(list, 10)"
      ]
     },
     "execution_count": 102,
     "metadata": {},
     "output_type": "execute_result"
    }
   ],
   "source": [
    "type(mc_lyrics), len(mc_lyrics)"
   ]
  },
  {
   "cell_type": "markdown",
   "metadata": {},
   "source": [
    "### Saving the list of all the Michael Jackson lyrics as JavaScript Objecct Notation (JSON)."
   ]
  },
  {
   "cell_type": "code",
   "execution_count": 34,
   "metadata": {},
   "outputs": [],
   "source": [
    "with open('mc_lyrics_json.txt', 'w') as filehandle:\n",
    "    json.dump(mc_lyrics, filehandle)"
   ]
  },
  {
   "cell_type": "markdown",
   "metadata": {},
   "source": [
    "----------------"
   ]
  },
  {
   "cell_type": "markdown",
   "metadata": {},
   "source": [
    "---------------"
   ]
  },
  {
   "cell_type": "markdown",
   "metadata": {},
   "source": [
    "### Clean up text"
   ]
  },
  {
   "cell_type": "raw",
   "metadata": {},
   "source": [
    "mc_lyrics_str = ' '.join(map(str, mc_lyrics))\n",
    "mc_lyrics_string_3=mc_lyrics_str.replace('(\"','')\n",
    "mc_lyrics_string_2=mc_lyrics_string_3.replace('\", ', ' ')\n",
    "mc_lyrics_string_1=mc_lyrics_string_2.replace(\" 'mariah carey')\", \". \")\n",
    "mc_lyrics_string=mc_lyrics_string_1.replace(r\"\\n\", \". \")\n",
    "print(mc_lyrics_string)"
   ]
  },
  {
   "cell_type": "code",
   "execution_count": 129,
   "metadata": {},
   "outputs": [],
   "source": [
    "import spacy\n",
    "\n",
    "nlp = spacy.load('en_core_web_md')\n",
    "\n",
    "with open('mj_lyrics_json.txt', 'r') as filehandle:\n",
    "    mj_json = json.load(filehandle)\n",
    "    \n",
    "#with open('mc_lyrics_json.txt', 'r') as filehandle:\n",
    " #   mc_json = json.load(filehandle)\n",
    "\n",
    "    \n",
    "text_original = [i[0] for i in mj_json]"
   ]
  },
  {
   "cell_type": "code",
   "execution_count": 131,
   "metadata": {
    "scrolled": true
   },
   "outputs": [
    {
     "name": "stdout",
     "output_type": "stream",
     "text": [
      "Sadness\n",
      "had\n",
      "been\n",
      "close\n",
      "as\n",
      "my\n",
      "next\n",
      "of\n",
      "kin\n",
      "\n",
      "\n",
      "Then\n",
      "Happy\n",
      "came\n",
      "one\n",
      "day\n",
      ",\n",
      "chased\n",
      "my\n",
      "blues\n",
      "away\n",
      "\n",
      "\n",
      "My\n",
      "life\n",
      "began\n",
      "when\n",
      "Happy\n",
      "smiled\n",
      "\n",
      "\n",
      "Sweet\n",
      ",\n",
      "like\n",
      "candy\n",
      "to\n",
      "a\n",
      "child\n",
      "\n",
      "\n",
      "Stay\n",
      "here\n",
      "and\n",
      "love\n",
      "me\n",
      "just\n",
      "a\n",
      "while\n",
      "Let\n",
      "Sadness\n",
      "see\n",
      "what\n",
      "Happy\n",
      "does\n",
      "\n",
      "\n",
      "Let\n",
      "Happy\n",
      "be\n",
      "where\n",
      "Sadness\n",
      "was\n",
      "Happy\n",
      ",\n",
      "that\n",
      "'s\n",
      "you\n",
      ",\n",
      "you\n",
      "made\n",
      "my\n",
      "life\n",
      "brand\n",
      "new\n",
      "\n",
      "\n",
      "Lost\n",
      "as\n",
      "a\n",
      "little\n",
      "lamb\n",
      "was\n",
      "I\n",
      ",\n",
      "till\n",
      "you\n",
      "came\n",
      "in\n",
      "\n",
      "\n",
      "My\n",
      "life\n",
      "began\n",
      "when\n",
      "happy\n",
      "smiled\n",
      "\n",
      "\n",
      "Sweet\n",
      ",\n",
      "like\n",
      "candy\n",
      "to\n",
      "a\n",
      "child\n",
      "\n",
      "\n",
      "Stay\n",
      "here\n",
      "and\n",
      "love\n",
      "me\n",
      "just\n",
      "a\n",
      "while\n",
      "Let\n",
      "Sadness\n",
      "see\n",
      "what\n",
      "Happy\n",
      "does\n",
      "\n",
      "\n",
      "Let\n",
      "Happy\n",
      "be\n",
      "where\n",
      "Sadness\n",
      "was\n",
      "\n",
      "\n",
      "(\n",
      "Till\n",
      "now\n",
      ")\n",
      "Where\n",
      "have\n",
      "I\n",
      "been\n",
      ",\n",
      "what\n",
      "lifetime\n",
      "was\n",
      "I\n",
      "in\n",
      "?\n",
      "\n",
      "\n",
      "Suspended\n",
      "between\n",
      "time\n",
      "and\n",
      "space\n",
      "\n",
      "\n",
      "Lonely\n",
      "until\n",
      ",\n",
      "Happy\n",
      "came\n",
      "smiling\n",
      "up\n",
      "at\n",
      "me\n",
      "\n",
      "\n",
      "Sadness\n",
      "had\n",
      "no\n",
      "choice\n",
      "but\n",
      "to\n",
      "flee\n",
      "\n",
      "\n",
      "I\n",
      "said\n",
      "a\n",
      "prayer\n",
      "so\n",
      "silently\n",
      "Let\n",
      "Sadness\n",
      "see\n",
      "what\n",
      "Happy\n",
      "does\n",
      "\n",
      "\n",
      "Let\n",
      "Happy\n",
      "be\n",
      "where\n",
      "Sadness\n",
      "was\n",
      "till\n",
      "now\n",
      "\n",
      "\n",
      "Till\n",
      "now\n",
      "Happy\n",
      ",\n",
      "yeah\n",
      ",\n",
      "yeah\n",
      ",\n",
      "happy\n",
      "\n",
      "\n",
      "La\n",
      ",\n",
      "la\n",
      ",\n",
      "la\n",
      ",\n",
      "la\n",
      ",\n",
      "la\n",
      ",\n",
      "la\n",
      ",\n",
      "la\n",
      ",\n",
      "la\n",
      "\n",
      "\n",
      "Yeah\n",
      "happy\n",
      ",\n",
      "ooh\n",
      ",\n",
      "happy\n",
      "\n",
      "\n",
      "La\n",
      ",\n",
      "la\n",
      ",\n",
      "la\n",
      ",\n",
      "la\n",
      ",\n",
      "la\n",
      ",\n",
      "la\n",
      ",\n",
      "la\n",
      ",\n",
      "la\n",
      "\n",
      "\n",
      "Happy\n",
      ",\n",
      "oh\n",
      "yeah\n",
      "happy\n",
      "\n",
      "\n",
      "La\n",
      ",\n",
      "la\n",
      ",\n",
      "la\n",
      ",\n",
      "la\n",
      ",\n",
      "la\n",
      ",\n",
      "la\n",
      ",\n",
      "la\n",
      ",\n",
      "la\n",
      "\n",
      "\n",
      "Happy\n"
     ]
    }
   ],
   "source": [
    "text = nlp(text_original[0]) # when we make it, it's already tokenized\n",
    "for token in text:\n",
    "    print(token)"
   ]
  },
  {
   "cell_type": "code",
   "execution_count": null,
   "metadata": {},
   "outputs": [],
   "source": []
  },
  {
   "cell_type": "code",
   "execution_count": null,
   "metadata": {},
   "outputs": [],
   "source": []
  },
  {
   "cell_type": "markdown",
   "metadata": {},
   "source": [
    "## Linguistic Features"
   ]
  },
  {
   "cell_type": "code",
   "execution_count": 97,
   "metadata": {},
   "outputs": [],
   "source": [
    "# Tokenization, stop words"
   ]
  },
  {
   "cell_type": "code",
   "execution_count": 132,
   "metadata": {},
   "outputs": [
    {
     "name": "stdout",
     "output_type": "stream",
     "text": [
      "Tokens that are stop words: [had, been, as, my, next, of, Then, one, my, My, when, to, a, here, and, me, just, a, while, see, what, does, be, where, was, that, 's, you, you, made, my, as, a, was, I, you, in, My, when, to, a, here, and, me, just, a, while, see, what, does, be, where, was, now, Where, have, I, been, what, was, I, in, between, and, until, up, at, me, had, no, but, to, I, a, so, see, what, does, be, where, was, now, now]\n"
     ]
    }
   ],
   "source": [
    "li = []\n",
    "for token in text:\n",
    "    if token.is_stop == True:\n",
    "        li.append(token)\n",
    "print('Tokens that are stop words: {}'.format(li))"
   ]
  },
  {
   "cell_type": "code",
   "execution_count": 133,
   "metadata": {},
   "outputs": [
    {
     "name": "stdout",
     "output_type": "stream",
     "text": [
      "Tokens that are stop words: ['have', 'be', 'as', 'my', 'next', 'of', 'then', 'one', 'when', 'to', 'a', 'here', 'and', 'I', 'just', 'while', 'see', 'what', 'do', 'where', 'that', 'you', 'make', 'in', 'now', 'between', 'until', 'up', 'at', 'no', 'but', 'so']\n"
     ]
    }
   ],
   "source": [
    "li = []\n",
    "for token in text:\n",
    "    if token.is_stop == True:\n",
    "        if token.lemma_ not in li:\n",
    "                li.append(token.lemma_)\n",
    "\n",
    "            \n",
    "print('Tokens that are stop words: {}'.format(li))"
   ]
  },
  {
   "cell_type": "code",
   "execution_count": 156,
   "metadata": {
    "scrolled": true
   },
   "outputs": [
    {
     "data": {
      "text/plain": [
       "\"word out shockin all alone\\nWord out shockin' all alone\\nCryin' wolf ain't like a man\\nThrowin' rocks to hide your hands You ain't done enough for me\\nYou ain't done enough for me\\nYou are disgustin' me, yeah yeah\\nYou're aiming just for me\\nYou are disgustin' me\\nJust want your cut from me\\nBut too bad, too bad Look who just walked in the place\\nDead and stuffy in the face\\nLook who's standing if you please\\nThough you tried to bring me to my knees Too bad too bad about it\\nWhy don't you scream and shout it\\nToo bad too bad about it\\nWhy don't you just scream and shout it\\nToo bad too bad about it\\nWhy don't you scream and shout it\\nToo bad too bad about it\\nWhy don't you just scream and shout it Hell all up in Hollywood\\nSayin' that you got it good\\nCreepin' from a dusty hole\\nTales of what somebody told What do you want from me?\\nWhat do you want from me?\\nTired of you haunting me, yeah yeah\\nYou're aiming just for me\\nYou are disgustin' me\\nYou got blood lust for me\\nbut too bad, too bad Look who got slapped in the face\\nIt's dead and stuffy in the pleace\\nI'm right back where i wanna be\\nI'm standin' though you're kickin' me Too bad too bad about it\\nWhy don't you scream and shout it\\nToo bad too bad about it\\nWhy don't you just scream and shout it\\ntoo bad too bad about it\\nWhy don't you scream and shout it\\ntoo bad too bad about it\\nWhy don't you just scream and shout it Too bad too bad about it\\nWhy don't you scream and shout it\\nToo bad too bad about it\\nWhy don't you just scream and shout it\\ntoo bad too bad about it\\nWhy don't you scream and shout it\\ntoo bad too bad about it\\nWhy don't you just scream and shout it Life's about a dream\\nI'm really undefeated when MJ is on my team, theme\\nReality brings forth realizm\\nIt's the man of steel organizm, twizm\\nNot from the prizm, take charge like manilla\\nNine five shaq represent with the thrilla\\nGrab my crotch, twist my knee, then i'm through\\nMike's bad, I'm bad\\nWho are you Too bad too bad about it\\nWhy don't you scream and shout it\\nToo bad too bad about it\\nWhy don't you just scream and shout it\\nToo bad too bad about it\\nWhy dont you scream and shout it\\nToo bad too bad about it\\nWhy don't you just scream and shout it Too bad too bad about it\\nWhy don't you scream and shout it\\nToo bad too bad about it\\nWhy don't you just scream and shout it\\ntoo bad too bad about it\\nWhy don't you scream and shout it\\ntoo bad too bad about it\\nWhy don't you just scream and shout it\""
      ]
     },
     "execution_count": 156,
     "metadata": {},
     "output_type": "execute_result"
    }
   ],
   "source": [
    "text_original[2]"
   ]
  },
  {
   "cell_type": "code",
   "execution_count": 157,
   "metadata": {
    "scrolled": true
   },
   "outputs": [],
   "source": [
    "def spacy_cleaner(document):\n",
    "    tokenize_doc = nlp(document)\n",
    "    new_doc = []\n",
    "    for token in tokenize_doc:\n",
    "        if not token.is_stop and token.is_alpha:\n",
    "            new_doc.append(token.lemma_)\n",
    "    return new_doc"
   ]
  },
  {
   "cell_type": "code",
   "execution_count": 168,
   "metadata": {},
   "outputs": [
    {
     "name": "stdout",
     "output_type": "stream",
     "text": [
      "['word', 'shockin', 'Word', 'shockin', 'Cryin', 'wolf', 'ai', 'like', 'man', 'Throwin', 'rock', 'hide', 'hand', 'ai', 'ai', 'disgustin', 'yeah', 'yeah', 'aim', 'disgustin', 'want', 'cut', 'bad', 'bad', 'look', 'walk', 'place', 'dead', 'stuffy', 'face', 'look', 'stand', 'try', 'bring', 'knee', 'bad', 'bad', 'scream', 'shout', 'bad', 'bad', 'scream', 'shout', 'bad', 'bad', 'scream', 'shout', 'bad', 'bad', 'scream', 'shout', 'hell', 'Hollywood', 'Sayin', 'get', 'good', 'Creepin', 'dusty', 'hole', 'Tales', 'somebody', 'tell', 'want', 'want', 'tired', 'haunt', 'yeah', 'yeah', 'aim', 'disgustin', 'get', 'blood', 'lust', 'bad', 'bad', 'look', 'got', 'slap', 'face', 'dead', 'stuffy', 'pleace', 'right', 'wanna', 'standin', 'kickin', 'bad', 'bad', 'scream', 'shout', 'bad', 'bad', 'scream', 'shout', 'bad', 'bad', 'scream', 'shout', 'bad', 'bad', 'scream', 'shout', 'bad', 'bad', 'scream', 'shout', 'bad', 'bad', 'scream', 'shout', 'bad', 'bad', 'scream', 'shout', 'bad', 'bad', 'scream', 'shout', 'life', 'dream', 'undefeated', 'MJ', 'team', 'theme', 'reality', 'bring', 'forth', 'realizm', 'man', 'steel', 'organizm', 'twizm', 'prizm', 'charge', 'like', 'manilla', 'shaq', 'represent', 'thrilla', 'grab', 'crotch', 'twist', 'knee', 'Mike', 'bad', 'bad', 'bad', 'bad', 'scream', 'shout', 'bad', 'bad', 'scream', 'shout', 'bad', 'bad', 'nt', 'scream', 'shout', 'bad', 'bad', 'scream', 'shout', 'bad', 'bad', 'scream', 'shout', 'bad', 'bad', 'scream', 'shout', 'bad', 'bad', 'scream', 'shout', 'bad', 'bad', 'scream', 'shout']\n"
     ]
    }
   ],
   "source": [
    "jfjffkjfku = []\n",
    "with open('mj_lyrics_json.txt', 'r') as filehandle:\n",
    "    mj_json = json.load(filehandle)\n",
    "    text_original = [i[0] for i in mj_json]\n",
    "    jfjffkjfku = [spacy_cleaner(song) for song in text_original]\n",
    "    \n",
    "print(jfjffkjfku[1])"
   ]
  },
  {
   "cell_type": "code",
   "execution_count": 103,
   "metadata": {},
   "outputs": [],
   "source": [
    "# POS-tagging"
   ]
  },
  {
   "cell_type": "code",
   "execution_count": 104,
   "metadata": {},
   "outputs": [
    {
     "name": "stdout",
     "output_type": "stream",
     "text": [
      "Super ADJ\n",
      "trouper NOUN\n",
      "beams NOUN\n",
      "are AUX\n",
      "gon VERB\n",
      "na PART\n",
      "blind VERB\n",
      "me PRON\n",
      "\n",
      "         SPACE\n",
      "But CCONJ\n",
      "I PRON\n",
      "wo AUX\n",
      "n't PART\n",
      "feel VERB\n",
      "blue ADJ\n"
     ]
    }
   ],
   "source": [
    "for token in text[:15]:\n",
    "    print(token, token.pos_)"
   ]
  },
  {
   "cell_type": "code",
   "execution_count": 105,
   "metadata": {},
   "outputs": [
    {
     "data": {
      "text/plain": [
       "'coordinating conjunction'"
      ]
     },
     "execution_count": 105,
     "metadata": {},
     "output_type": "execute_result"
    }
   ],
   "source": [
    "spacy.explain('CCONJ')"
   ]
  },
  {
   "cell_type": "code",
   "execution_count": 106,
   "metadata": {},
   "outputs": [],
   "source": [
    "# Named Entity Recognition (NER)"
   ]
  },
  {
   "cell_type": "code",
   "execution_count": 107,
   "metadata": {},
   "outputs": [
    {
     "data": {
      "text/plain": [
       "My name is Ada Lovelace, I am in New York until Christmas and work at Google since May 2020."
      ]
     },
     "execution_count": 107,
     "metadata": {},
     "output_type": "execute_result"
    }
   ],
   "source": [
    "text2 = nlp(\"My name is Ada Lovelace, I am in New York until Christmas and work at Google since May 2020.\")\n",
    "text2"
   ]
  },
  {
   "cell_type": "code",
   "execution_count": 108,
   "metadata": {},
   "outputs": [
    {
     "data": {
      "text/html": [
       "<span class=\"tex2jax_ignore\"><div class=\"entities\" style=\"line-height: 2.5; direction: ltr\">My name is \n",
       "<mark class=\"entity\" style=\"background: #aa9cfc; padding: 0.45em 0.6em; margin: 0 0.25em; line-height: 1; border-radius: 0.35em;\">\n",
       "    Ada Lovelace\n",
       "    <span style=\"font-size: 0.8em; font-weight: bold; line-height: 1; border-radius: 0.35em; vertical-align: middle; margin-left: 0.5rem\">PERSON</span>\n",
       "</mark>\n",
       ", I am in \n",
       "<mark class=\"entity\" style=\"background: #feca74; padding: 0.45em 0.6em; margin: 0 0.25em; line-height: 1; border-radius: 0.35em;\">\n",
       "    New York\n",
       "    <span style=\"font-size: 0.8em; font-weight: bold; line-height: 1; border-radius: 0.35em; vertical-align: middle; margin-left: 0.5rem\">GPE</span>\n",
       "</mark>\n",
       " until \n",
       "<mark class=\"entity\" style=\"background: #bfe1d9; padding: 0.45em 0.6em; margin: 0 0.25em; line-height: 1; border-radius: 0.35em;\">\n",
       "    Christmas\n",
       "    <span style=\"font-size: 0.8em; font-weight: bold; line-height: 1; border-radius: 0.35em; vertical-align: middle; margin-left: 0.5rem\">DATE</span>\n",
       "</mark>\n",
       " and work at \n",
       "<mark class=\"entity\" style=\"background: #7aecec; padding: 0.45em 0.6em; margin: 0 0.25em; line-height: 1; border-radius: 0.35em;\">\n",
       "    Google\n",
       "    <span style=\"font-size: 0.8em; font-weight: bold; line-height: 1; border-radius: 0.35em; vertical-align: middle; margin-left: 0.5rem\">ORG</span>\n",
       "</mark>\n",
       " since \n",
       "<mark class=\"entity\" style=\"background: #bfe1d9; padding: 0.45em 0.6em; margin: 0 0.25em; line-height: 1; border-radius: 0.35em;\">\n",
       "    May 2020\n",
       "    <span style=\"font-size: 0.8em; font-weight: bold; line-height: 1; border-radius: 0.35em; vertical-align: middle; margin-left: 0.5rem\">DATE</span>\n",
       "</mark>\n",
       ".</div></span>"
      ],
      "text/plain": [
       "<IPython.core.display.HTML object>"
      ]
     },
     "metadata": {},
     "output_type": "display_data"
    }
   ],
   "source": [
    "spacy.displacy.render(text2, style = 'ent')"
   ]
  },
  {
   "cell_type": "code",
   "execution_count": null,
   "metadata": {},
   "outputs": [],
   "source": []
  },
  {
   "cell_type": "code",
   "execution_count": null,
   "metadata": {},
   "outputs": [],
   "source": []
  },
  {
   "cell_type": "code",
   "execution_count": 109,
   "metadata": {},
   "outputs": [],
   "source": [
    "# Dependencies"
   ]
  },
  {
   "cell_type": "code",
   "execution_count": 110,
   "metadata": {},
   "outputs": [
    {
     "data": {
      "text/html": [
       "<span class=\"tex2jax_ignore\"><svg xmlns=\"http://www.w3.org/2000/svg\" xmlns:xlink=\"http://www.w3.org/1999/xlink\" xml:lang=\"en\" id=\"629f56e5800a4667b409cafa927d4094-0\" class=\"displacy\" width=\"3375\" height=\"487.0\" direction=\"ltr\" style=\"max-width: none; height: 487.0px; color: #000000; background: #ffffff; font-family: Arial; direction: ltr\">\n",
       "<text class=\"displacy-token\" fill=\"currentColor\" text-anchor=\"middle\" y=\"397.0\">\n",
       "    <tspan class=\"displacy-word\" fill=\"currentColor\" x=\"50\">My</tspan>\n",
       "    <tspan class=\"displacy-tag\" dy=\"2em\" fill=\"currentColor\" x=\"50\">PRON</tspan>\n",
       "</text>\n",
       "\n",
       "<text class=\"displacy-token\" fill=\"currentColor\" text-anchor=\"middle\" y=\"397.0\">\n",
       "    <tspan class=\"displacy-word\" fill=\"currentColor\" x=\"225\">name</tspan>\n",
       "    <tspan class=\"displacy-tag\" dy=\"2em\" fill=\"currentColor\" x=\"225\">NOUN</tspan>\n",
       "</text>\n",
       "\n",
       "<text class=\"displacy-token\" fill=\"currentColor\" text-anchor=\"middle\" y=\"397.0\">\n",
       "    <tspan class=\"displacy-word\" fill=\"currentColor\" x=\"400\">is</tspan>\n",
       "    <tspan class=\"displacy-tag\" dy=\"2em\" fill=\"currentColor\" x=\"400\">AUX</tspan>\n",
       "</text>\n",
       "\n",
       "<text class=\"displacy-token\" fill=\"currentColor\" text-anchor=\"middle\" y=\"397.0\">\n",
       "    <tspan class=\"displacy-word\" fill=\"currentColor\" x=\"575\">Ada</tspan>\n",
       "    <tspan class=\"displacy-tag\" dy=\"2em\" fill=\"currentColor\" x=\"575\">PROPN</tspan>\n",
       "</text>\n",
       "\n",
       "<text class=\"displacy-token\" fill=\"currentColor\" text-anchor=\"middle\" y=\"397.0\">\n",
       "    <tspan class=\"displacy-word\" fill=\"currentColor\" x=\"750\">Lovelace,</tspan>\n",
       "    <tspan class=\"displacy-tag\" dy=\"2em\" fill=\"currentColor\" x=\"750\">PROPN</tspan>\n",
       "</text>\n",
       "\n",
       "<text class=\"displacy-token\" fill=\"currentColor\" text-anchor=\"middle\" y=\"397.0\">\n",
       "    <tspan class=\"displacy-word\" fill=\"currentColor\" x=\"925\">I</tspan>\n",
       "    <tspan class=\"displacy-tag\" dy=\"2em\" fill=\"currentColor\" x=\"925\">PRON</tspan>\n",
       "</text>\n",
       "\n",
       "<text class=\"displacy-token\" fill=\"currentColor\" text-anchor=\"middle\" y=\"397.0\">\n",
       "    <tspan class=\"displacy-word\" fill=\"currentColor\" x=\"1100\">am</tspan>\n",
       "    <tspan class=\"displacy-tag\" dy=\"2em\" fill=\"currentColor\" x=\"1100\">AUX</tspan>\n",
       "</text>\n",
       "\n",
       "<text class=\"displacy-token\" fill=\"currentColor\" text-anchor=\"middle\" y=\"397.0\">\n",
       "    <tspan class=\"displacy-word\" fill=\"currentColor\" x=\"1275\">in</tspan>\n",
       "    <tspan class=\"displacy-tag\" dy=\"2em\" fill=\"currentColor\" x=\"1275\">ADP</tspan>\n",
       "</text>\n",
       "\n",
       "<text class=\"displacy-token\" fill=\"currentColor\" text-anchor=\"middle\" y=\"397.0\">\n",
       "    <tspan class=\"displacy-word\" fill=\"currentColor\" x=\"1450\">New</tspan>\n",
       "    <tspan class=\"displacy-tag\" dy=\"2em\" fill=\"currentColor\" x=\"1450\">PROPN</tspan>\n",
       "</text>\n",
       "\n",
       "<text class=\"displacy-token\" fill=\"currentColor\" text-anchor=\"middle\" y=\"397.0\">\n",
       "    <tspan class=\"displacy-word\" fill=\"currentColor\" x=\"1625\">York</tspan>\n",
       "    <tspan class=\"displacy-tag\" dy=\"2em\" fill=\"currentColor\" x=\"1625\">PROPN</tspan>\n",
       "</text>\n",
       "\n",
       "<text class=\"displacy-token\" fill=\"currentColor\" text-anchor=\"middle\" y=\"397.0\">\n",
       "    <tspan class=\"displacy-word\" fill=\"currentColor\" x=\"1800\">until</tspan>\n",
       "    <tspan class=\"displacy-tag\" dy=\"2em\" fill=\"currentColor\" x=\"1800\">ADP</tspan>\n",
       "</text>\n",
       "\n",
       "<text class=\"displacy-token\" fill=\"currentColor\" text-anchor=\"middle\" y=\"397.0\">\n",
       "    <tspan class=\"displacy-word\" fill=\"currentColor\" x=\"1975\">Christmas</tspan>\n",
       "    <tspan class=\"displacy-tag\" dy=\"2em\" fill=\"currentColor\" x=\"1975\">PROPN</tspan>\n",
       "</text>\n",
       "\n",
       "<text class=\"displacy-token\" fill=\"currentColor\" text-anchor=\"middle\" y=\"397.0\">\n",
       "    <tspan class=\"displacy-word\" fill=\"currentColor\" x=\"2150\">and</tspan>\n",
       "    <tspan class=\"displacy-tag\" dy=\"2em\" fill=\"currentColor\" x=\"2150\">CCONJ</tspan>\n",
       "</text>\n",
       "\n",
       "<text class=\"displacy-token\" fill=\"currentColor\" text-anchor=\"middle\" y=\"397.0\">\n",
       "    <tspan class=\"displacy-word\" fill=\"currentColor\" x=\"2325\">work</tspan>\n",
       "    <tspan class=\"displacy-tag\" dy=\"2em\" fill=\"currentColor\" x=\"2325\">VERB</tspan>\n",
       "</text>\n",
       "\n",
       "<text class=\"displacy-token\" fill=\"currentColor\" text-anchor=\"middle\" y=\"397.0\">\n",
       "    <tspan class=\"displacy-word\" fill=\"currentColor\" x=\"2500\">at</tspan>\n",
       "    <tspan class=\"displacy-tag\" dy=\"2em\" fill=\"currentColor\" x=\"2500\">ADP</tspan>\n",
       "</text>\n",
       "\n",
       "<text class=\"displacy-token\" fill=\"currentColor\" text-anchor=\"middle\" y=\"397.0\">\n",
       "    <tspan class=\"displacy-word\" fill=\"currentColor\" x=\"2675\">Google</tspan>\n",
       "    <tspan class=\"displacy-tag\" dy=\"2em\" fill=\"currentColor\" x=\"2675\">PROPN</tspan>\n",
       "</text>\n",
       "\n",
       "<text class=\"displacy-token\" fill=\"currentColor\" text-anchor=\"middle\" y=\"397.0\">\n",
       "    <tspan class=\"displacy-word\" fill=\"currentColor\" x=\"2850\">since</tspan>\n",
       "    <tspan class=\"displacy-tag\" dy=\"2em\" fill=\"currentColor\" x=\"2850\">SCONJ</tspan>\n",
       "</text>\n",
       "\n",
       "<text class=\"displacy-token\" fill=\"currentColor\" text-anchor=\"middle\" y=\"397.0\">\n",
       "    <tspan class=\"displacy-word\" fill=\"currentColor\" x=\"3025\">May</tspan>\n",
       "    <tspan class=\"displacy-tag\" dy=\"2em\" fill=\"currentColor\" x=\"3025\">PROPN</tspan>\n",
       "</text>\n",
       "\n",
       "<text class=\"displacy-token\" fill=\"currentColor\" text-anchor=\"middle\" y=\"397.0\">\n",
       "    <tspan class=\"displacy-word\" fill=\"currentColor\" x=\"3200\">2020.</tspan>\n",
       "    <tspan class=\"displacy-tag\" dy=\"2em\" fill=\"currentColor\" x=\"3200\">NUM</tspan>\n",
       "</text>\n",
       "\n",
       "<g class=\"displacy-arrow\">\n",
       "    <path class=\"displacy-arc\" id=\"arrow-629f56e5800a4667b409cafa927d4094-0-0\" stroke-width=\"2px\" d=\"M70,352.0 C70,264.5 210.0,264.5 210.0,352.0\" fill=\"none\" stroke=\"currentColor\"/>\n",
       "    <text dy=\"1.25em\" style=\"font-size: 0.8em; letter-spacing: 1px\">\n",
       "        <textPath xlink:href=\"#arrow-629f56e5800a4667b409cafa927d4094-0-0\" class=\"displacy-label\" startOffset=\"50%\" side=\"left\" fill=\"currentColor\" text-anchor=\"middle\">poss</textPath>\n",
       "    </text>\n",
       "    <path class=\"displacy-arrowhead\" d=\"M70,354.0 L62,342.0 78,342.0\" fill=\"currentColor\"/>\n",
       "</g>\n",
       "\n",
       "<g class=\"displacy-arrow\">\n",
       "    <path class=\"displacy-arc\" id=\"arrow-629f56e5800a4667b409cafa927d4094-0-1\" stroke-width=\"2px\" d=\"M245,352.0 C245,264.5 385.0,264.5 385.0,352.0\" fill=\"none\" stroke=\"currentColor\"/>\n",
       "    <text dy=\"1.25em\" style=\"font-size: 0.8em; letter-spacing: 1px\">\n",
       "        <textPath xlink:href=\"#arrow-629f56e5800a4667b409cafa927d4094-0-1\" class=\"displacy-label\" startOffset=\"50%\" side=\"left\" fill=\"currentColor\" text-anchor=\"middle\">nsubj</textPath>\n",
       "    </text>\n",
       "    <path class=\"displacy-arrowhead\" d=\"M245,354.0 L237,342.0 253,342.0\" fill=\"currentColor\"/>\n",
       "</g>\n",
       "\n",
       "<g class=\"displacy-arrow\">\n",
       "    <path class=\"displacy-arc\" id=\"arrow-629f56e5800a4667b409cafa927d4094-0-2\" stroke-width=\"2px\" d=\"M420,352.0 C420,2.0 1100.0,2.0 1100.0,352.0\" fill=\"none\" stroke=\"currentColor\"/>\n",
       "    <text dy=\"1.25em\" style=\"font-size: 0.8em; letter-spacing: 1px\">\n",
       "        <textPath xlink:href=\"#arrow-629f56e5800a4667b409cafa927d4094-0-2\" class=\"displacy-label\" startOffset=\"50%\" side=\"left\" fill=\"currentColor\" text-anchor=\"middle\">ccomp</textPath>\n",
       "    </text>\n",
       "    <path class=\"displacy-arrowhead\" d=\"M420,354.0 L412,342.0 428,342.0\" fill=\"currentColor\"/>\n",
       "</g>\n",
       "\n",
       "<g class=\"displacy-arrow\">\n",
       "    <path class=\"displacy-arc\" id=\"arrow-629f56e5800a4667b409cafa927d4094-0-3\" stroke-width=\"2px\" d=\"M595,352.0 C595,264.5 735.0,264.5 735.0,352.0\" fill=\"none\" stroke=\"currentColor\"/>\n",
       "    <text dy=\"1.25em\" style=\"font-size: 0.8em; letter-spacing: 1px\">\n",
       "        <textPath xlink:href=\"#arrow-629f56e5800a4667b409cafa927d4094-0-3\" class=\"displacy-label\" startOffset=\"50%\" side=\"left\" fill=\"currentColor\" text-anchor=\"middle\">compound</textPath>\n",
       "    </text>\n",
       "    <path class=\"displacy-arrowhead\" d=\"M595,354.0 L587,342.0 603,342.0\" fill=\"currentColor\"/>\n",
       "</g>\n",
       "\n",
       "<g class=\"displacy-arrow\">\n",
       "    <path class=\"displacy-arc\" id=\"arrow-629f56e5800a4667b409cafa927d4094-0-4\" stroke-width=\"2px\" d=\"M420,352.0 C420,177.0 740.0,177.0 740.0,352.0\" fill=\"none\" stroke=\"currentColor\"/>\n",
       "    <text dy=\"1.25em\" style=\"font-size: 0.8em; letter-spacing: 1px\">\n",
       "        <textPath xlink:href=\"#arrow-629f56e5800a4667b409cafa927d4094-0-4\" class=\"displacy-label\" startOffset=\"50%\" side=\"left\" fill=\"currentColor\" text-anchor=\"middle\">attr</textPath>\n",
       "    </text>\n",
       "    <path class=\"displacy-arrowhead\" d=\"M740.0,354.0 L748.0,342.0 732.0,342.0\" fill=\"currentColor\"/>\n",
       "</g>\n",
       "\n",
       "<g class=\"displacy-arrow\">\n",
       "    <path class=\"displacy-arc\" id=\"arrow-629f56e5800a4667b409cafa927d4094-0-5\" stroke-width=\"2px\" d=\"M945,352.0 C945,264.5 1085.0,264.5 1085.0,352.0\" fill=\"none\" stroke=\"currentColor\"/>\n",
       "    <text dy=\"1.25em\" style=\"font-size: 0.8em; letter-spacing: 1px\">\n",
       "        <textPath xlink:href=\"#arrow-629f56e5800a4667b409cafa927d4094-0-5\" class=\"displacy-label\" startOffset=\"50%\" side=\"left\" fill=\"currentColor\" text-anchor=\"middle\">nsubj</textPath>\n",
       "    </text>\n",
       "    <path class=\"displacy-arrowhead\" d=\"M945,354.0 L937,342.0 953,342.0\" fill=\"currentColor\"/>\n",
       "</g>\n",
       "\n",
       "<g class=\"displacy-arrow\">\n",
       "    <path class=\"displacy-arc\" id=\"arrow-629f56e5800a4667b409cafa927d4094-0-6\" stroke-width=\"2px\" d=\"M1120,352.0 C1120,264.5 1260.0,264.5 1260.0,352.0\" fill=\"none\" stroke=\"currentColor\"/>\n",
       "    <text dy=\"1.25em\" style=\"font-size: 0.8em; letter-spacing: 1px\">\n",
       "        <textPath xlink:href=\"#arrow-629f56e5800a4667b409cafa927d4094-0-6\" class=\"displacy-label\" startOffset=\"50%\" side=\"left\" fill=\"currentColor\" text-anchor=\"middle\">prep</textPath>\n",
       "    </text>\n",
       "    <path class=\"displacy-arrowhead\" d=\"M1260.0,354.0 L1268.0,342.0 1252.0,342.0\" fill=\"currentColor\"/>\n",
       "</g>\n",
       "\n",
       "<g class=\"displacy-arrow\">\n",
       "    <path class=\"displacy-arc\" id=\"arrow-629f56e5800a4667b409cafa927d4094-0-7\" stroke-width=\"2px\" d=\"M1470,352.0 C1470,264.5 1610.0,264.5 1610.0,352.0\" fill=\"none\" stroke=\"currentColor\"/>\n",
       "    <text dy=\"1.25em\" style=\"font-size: 0.8em; letter-spacing: 1px\">\n",
       "        <textPath xlink:href=\"#arrow-629f56e5800a4667b409cafa927d4094-0-7\" class=\"displacy-label\" startOffset=\"50%\" side=\"left\" fill=\"currentColor\" text-anchor=\"middle\">compound</textPath>\n",
       "    </text>\n",
       "    <path class=\"displacy-arrowhead\" d=\"M1470,354.0 L1462,342.0 1478,342.0\" fill=\"currentColor\"/>\n",
       "</g>\n",
       "\n",
       "<g class=\"displacy-arrow\">\n",
       "    <path class=\"displacy-arc\" id=\"arrow-629f56e5800a4667b409cafa927d4094-0-8\" stroke-width=\"2px\" d=\"M1295,352.0 C1295,177.0 1615.0,177.0 1615.0,352.0\" fill=\"none\" stroke=\"currentColor\"/>\n",
       "    <text dy=\"1.25em\" style=\"font-size: 0.8em; letter-spacing: 1px\">\n",
       "        <textPath xlink:href=\"#arrow-629f56e5800a4667b409cafa927d4094-0-8\" class=\"displacy-label\" startOffset=\"50%\" side=\"left\" fill=\"currentColor\" text-anchor=\"middle\">pobj</textPath>\n",
       "    </text>\n",
       "    <path class=\"displacy-arrowhead\" d=\"M1615.0,354.0 L1623.0,342.0 1607.0,342.0\" fill=\"currentColor\"/>\n",
       "</g>\n",
       "\n",
       "<g class=\"displacy-arrow\">\n",
       "    <path class=\"displacy-arc\" id=\"arrow-629f56e5800a4667b409cafa927d4094-0-9\" stroke-width=\"2px\" d=\"M1120,352.0 C1120,2.0 1800.0,2.0 1800.0,352.0\" fill=\"none\" stroke=\"currentColor\"/>\n",
       "    <text dy=\"1.25em\" style=\"font-size: 0.8em; letter-spacing: 1px\">\n",
       "        <textPath xlink:href=\"#arrow-629f56e5800a4667b409cafa927d4094-0-9\" class=\"displacy-label\" startOffset=\"50%\" side=\"left\" fill=\"currentColor\" text-anchor=\"middle\">prep</textPath>\n",
       "    </text>\n",
       "    <path class=\"displacy-arrowhead\" d=\"M1800.0,354.0 L1808.0,342.0 1792.0,342.0\" fill=\"currentColor\"/>\n",
       "</g>\n",
       "\n",
       "<g class=\"displacy-arrow\">\n",
       "    <path class=\"displacy-arc\" id=\"arrow-629f56e5800a4667b409cafa927d4094-0-10\" stroke-width=\"2px\" d=\"M1820,352.0 C1820,264.5 1960.0,264.5 1960.0,352.0\" fill=\"none\" stroke=\"currentColor\"/>\n",
       "    <text dy=\"1.25em\" style=\"font-size: 0.8em; letter-spacing: 1px\">\n",
       "        <textPath xlink:href=\"#arrow-629f56e5800a4667b409cafa927d4094-0-10\" class=\"displacy-label\" startOffset=\"50%\" side=\"left\" fill=\"currentColor\" text-anchor=\"middle\">pobj</textPath>\n",
       "    </text>\n",
       "    <path class=\"displacy-arrowhead\" d=\"M1960.0,354.0 L1968.0,342.0 1952.0,342.0\" fill=\"currentColor\"/>\n",
       "</g>\n",
       "\n",
       "<g class=\"displacy-arrow\">\n",
       "    <path class=\"displacy-arc\" id=\"arrow-629f56e5800a4667b409cafa927d4094-0-11\" stroke-width=\"2px\" d=\"M1995,352.0 C1995,264.5 2135.0,264.5 2135.0,352.0\" fill=\"none\" stroke=\"currentColor\"/>\n",
       "    <text dy=\"1.25em\" style=\"font-size: 0.8em; letter-spacing: 1px\">\n",
       "        <textPath xlink:href=\"#arrow-629f56e5800a4667b409cafa927d4094-0-11\" class=\"displacy-label\" startOffset=\"50%\" side=\"left\" fill=\"currentColor\" text-anchor=\"middle\">cc</textPath>\n",
       "    </text>\n",
       "    <path class=\"displacy-arrowhead\" d=\"M2135.0,354.0 L2143.0,342.0 2127.0,342.0\" fill=\"currentColor\"/>\n",
       "</g>\n",
       "\n",
       "<g class=\"displacy-arrow\">\n",
       "    <path class=\"displacy-arc\" id=\"arrow-629f56e5800a4667b409cafa927d4094-0-12\" stroke-width=\"2px\" d=\"M1995,352.0 C1995,177.0 2315.0,177.0 2315.0,352.0\" fill=\"none\" stroke=\"currentColor\"/>\n",
       "    <text dy=\"1.25em\" style=\"font-size: 0.8em; letter-spacing: 1px\">\n",
       "        <textPath xlink:href=\"#arrow-629f56e5800a4667b409cafa927d4094-0-12\" class=\"displacy-label\" startOffset=\"50%\" side=\"left\" fill=\"currentColor\" text-anchor=\"middle\">conj</textPath>\n",
       "    </text>\n",
       "    <path class=\"displacy-arrowhead\" d=\"M2315.0,354.0 L2323.0,342.0 2307.0,342.0\" fill=\"currentColor\"/>\n",
       "</g>\n",
       "\n",
       "<g class=\"displacy-arrow\">\n",
       "    <path class=\"displacy-arc\" id=\"arrow-629f56e5800a4667b409cafa927d4094-0-13\" stroke-width=\"2px\" d=\"M2345,352.0 C2345,264.5 2485.0,264.5 2485.0,352.0\" fill=\"none\" stroke=\"currentColor\"/>\n",
       "    <text dy=\"1.25em\" style=\"font-size: 0.8em; letter-spacing: 1px\">\n",
       "        <textPath xlink:href=\"#arrow-629f56e5800a4667b409cafa927d4094-0-13\" class=\"displacy-label\" startOffset=\"50%\" side=\"left\" fill=\"currentColor\" text-anchor=\"middle\">prep</textPath>\n",
       "    </text>\n",
       "    <path class=\"displacy-arrowhead\" d=\"M2485.0,354.0 L2493.0,342.0 2477.0,342.0\" fill=\"currentColor\"/>\n",
       "</g>\n",
       "\n",
       "<g class=\"displacy-arrow\">\n",
       "    <path class=\"displacy-arc\" id=\"arrow-629f56e5800a4667b409cafa927d4094-0-14\" stroke-width=\"2px\" d=\"M2520,352.0 C2520,264.5 2660.0,264.5 2660.0,352.0\" fill=\"none\" stroke=\"currentColor\"/>\n",
       "    <text dy=\"1.25em\" style=\"font-size: 0.8em; letter-spacing: 1px\">\n",
       "        <textPath xlink:href=\"#arrow-629f56e5800a4667b409cafa927d4094-0-14\" class=\"displacy-label\" startOffset=\"50%\" side=\"left\" fill=\"currentColor\" text-anchor=\"middle\">pobj</textPath>\n",
       "    </text>\n",
       "    <path class=\"displacy-arrowhead\" d=\"M2660.0,354.0 L2668.0,342.0 2652.0,342.0\" fill=\"currentColor\"/>\n",
       "</g>\n",
       "\n",
       "<g class=\"displacy-arrow\">\n",
       "    <path class=\"displacy-arc\" id=\"arrow-629f56e5800a4667b409cafa927d4094-0-15\" stroke-width=\"2px\" d=\"M2345,352.0 C2345,89.5 2845.0,89.5 2845.0,352.0\" fill=\"none\" stroke=\"currentColor\"/>\n",
       "    <text dy=\"1.25em\" style=\"font-size: 0.8em; letter-spacing: 1px\">\n",
       "        <textPath xlink:href=\"#arrow-629f56e5800a4667b409cafa927d4094-0-15\" class=\"displacy-label\" startOffset=\"50%\" side=\"left\" fill=\"currentColor\" text-anchor=\"middle\">prep</textPath>\n",
       "    </text>\n",
       "    <path class=\"displacy-arrowhead\" d=\"M2845.0,354.0 L2853.0,342.0 2837.0,342.0\" fill=\"currentColor\"/>\n",
       "</g>\n",
       "\n",
       "<g class=\"displacy-arrow\">\n",
       "    <path class=\"displacy-arc\" id=\"arrow-629f56e5800a4667b409cafa927d4094-0-16\" stroke-width=\"2px\" d=\"M2870,352.0 C2870,264.5 3010.0,264.5 3010.0,352.0\" fill=\"none\" stroke=\"currentColor\"/>\n",
       "    <text dy=\"1.25em\" style=\"font-size: 0.8em; letter-spacing: 1px\">\n",
       "        <textPath xlink:href=\"#arrow-629f56e5800a4667b409cafa927d4094-0-16\" class=\"displacy-label\" startOffset=\"50%\" side=\"left\" fill=\"currentColor\" text-anchor=\"middle\">pobj</textPath>\n",
       "    </text>\n",
       "    <path class=\"displacy-arrowhead\" d=\"M3010.0,354.0 L3018.0,342.0 3002.0,342.0\" fill=\"currentColor\"/>\n",
       "</g>\n",
       "\n",
       "<g class=\"displacy-arrow\">\n",
       "    <path class=\"displacy-arc\" id=\"arrow-629f56e5800a4667b409cafa927d4094-0-17\" stroke-width=\"2px\" d=\"M3045,352.0 C3045,264.5 3185.0,264.5 3185.0,352.0\" fill=\"none\" stroke=\"currentColor\"/>\n",
       "    <text dy=\"1.25em\" style=\"font-size: 0.8em; letter-spacing: 1px\">\n",
       "        <textPath xlink:href=\"#arrow-629f56e5800a4667b409cafa927d4094-0-17\" class=\"displacy-label\" startOffset=\"50%\" side=\"left\" fill=\"currentColor\" text-anchor=\"middle\">nummod</textPath>\n",
       "    </text>\n",
       "    <path class=\"displacy-arrowhead\" d=\"M3185.0,354.0 L3193.0,342.0 3177.0,342.0\" fill=\"currentColor\"/>\n",
       "</g>\n",
       "</svg></span>"
      ],
      "text/plain": [
       "<IPython.core.display.HTML object>"
      ]
     },
     "metadata": {},
     "output_type": "display_data"
    }
   ],
   "source": [
    "spacy.displacy.render(text2, style='dep')"
   ]
  },
  {
   "cell_type": "code",
   "execution_count": null,
   "metadata": {},
   "outputs": [],
   "source": []
  },
  {
   "cell_type": "markdown",
   "metadata": {},
   "source": [
    "# Word embeddings"
   ]
  },
  {
   "cell_type": "code",
   "execution_count": 111,
   "metadata": {},
   "outputs": [],
   "source": [
    "import pandas as pd\n",
    "import numpy as np\n",
    "import matplotlib.pyplot as plt"
   ]
  },
  {
   "cell_type": "code",
   "execution_count": 112,
   "metadata": {},
   "outputs": [
    {
     "data": {
      "text/html": [
       "<div>\n",
       "<style scoped>\n",
       "    .dataframe tbody tr th:only-of-type {\n",
       "        vertical-align: middle;\n",
       "    }\n",
       "\n",
       "    .dataframe tbody tr th {\n",
       "        vertical-align: top;\n",
       "    }\n",
       "\n",
       "    .dataframe thead th {\n",
       "        text-align: right;\n",
       "    }\n",
       "</style>\n",
       "<table border=\"1\" class=\"dataframe\">\n",
       "  <thead>\n",
       "    <tr style=\"text-align: right;\">\n",
       "      <th></th>\n",
       "      <th>size</th>\n",
       "      <th>roundness</th>\n",
       "    </tr>\n",
       "  </thead>\n",
       "  <tbody>\n",
       "    <tr>\n",
       "      <th>Apple</th>\n",
       "      <td>60</td>\n",
       "      <td>76</td>\n",
       "    </tr>\n",
       "    <tr>\n",
       "      <th>Banana</th>\n",
       "      <td>65</td>\n",
       "      <td>11</td>\n",
       "    </tr>\n",
       "    <tr>\n",
       "      <th>Blueberry</th>\n",
       "      <td>15</td>\n",
       "      <td>94</td>\n",
       "    </tr>\n",
       "    <tr>\n",
       "      <th>Melon</th>\n",
       "      <td>90</td>\n",
       "      <td>99</td>\n",
       "    </tr>\n",
       "    <tr>\n",
       "      <th>Football</th>\n",
       "      <td>92</td>\n",
       "      <td>96</td>\n",
       "    </tr>\n",
       "    <tr>\n",
       "      <th>Pen</th>\n",
       "      <td>45</td>\n",
       "      <td>8</td>\n",
       "    </tr>\n",
       "    <tr>\n",
       "      <th>Shoe</th>\n",
       "      <td>70</td>\n",
       "      <td>18</td>\n",
       "    </tr>\n",
       "    <tr>\n",
       "      <th>Spoon</th>\n",
       "      <td>50</td>\n",
       "      <td>15</td>\n",
       "    </tr>\n",
       "    <tr>\n",
       "      <th>Dice</th>\n",
       "      <td>21</td>\n",
       "      <td>56</td>\n",
       "    </tr>\n",
       "  </tbody>\n",
       "</table>\n",
       "</div>"
      ],
      "text/plain": [
       "           size  roundness\n",
       "Apple        60         76\n",
       "Banana       65         11\n",
       "Blueberry    15         94\n",
       "Melon        90         99\n",
       "Football     92         96\n",
       "Pen          45          8\n",
       "Shoe         70         18\n",
       "Spoon        50         15\n",
       "Dice         21         56"
      ]
     },
     "execution_count": 112,
     "metadata": {},
     "output_type": "execute_result"
    }
   ],
   "source": [
    "things = pd.DataFrame({'size': [60, 65, 15, 90, 92, 45, 70, 50, 21],\n",
    "                      'roundness': [76, 11, 94, 99, 96, 8, 18, 15, 56]}, \n",
    "                       index=['Apple', 'Banana', 'Blueberry', \n",
    "                              'Melon', 'Football', 'Pen', 'Shoe', 'Spoon', 'Dice'])\n",
    "things"
   ]
  },
  {
   "cell_type": "code",
   "execution_count": 113,
   "metadata": {},
   "outputs": [
    {
     "data": {
      "image/png": "[encoded data removed]",
      "text/plain": [
       "<Figure size 576x432 with 1 Axes>"
      ]
     },
     "metadata": {
      "needs_background": "light"
     },
     "output_type": "display_data"
    }
   ],
   "source": [
    "plt.figure(figsize=(8,6))\n",
    "plt.scatter(things['size'], things['roundness'])\n",
    "plt.xlabel('size'), plt.ylabel('roundness')\n",
    "for i, txt in enumerate(things.index):\n",
    "    plt.annotate(txt, (things.iloc[i][0], things.iloc[i][1]+2), fontsize=12)"
   ]
  },
  {
   "cell_type": "code",
   "execution_count": null,
   "metadata": {},
   "outputs": [],
   "source": []
  },
  {
   "cell_type": "code",
   "execution_count": null,
   "metadata": {},
   "outputs": [],
   "source": []
  },
  {
   "cell_type": "code",
   "execution_count": null,
   "metadata": {},
   "outputs": [],
   "source": []
  },
  {
   "cell_type": "code",
   "execution_count": null,
   "metadata": {},
   "outputs": [],
   "source": []
  },
  {
   "cell_type": "code",
   "execution_count": null,
   "metadata": {},
   "outputs": [],
   "source": []
  },
  {
   "cell_type": "code",
   "execution_count": null,
   "metadata": {},
   "outputs": [],
   "source": []
  },
  {
   "cell_type": "markdown",
   "metadata": {},
   "source": [
    "# Word vectors in Spacy\n",
    "Spacy can compare two word(vector)s regarding how similar they are. For this, you need a model of at least medium size, e.g. `en_core_web_md`. "
   ]
  },
  {
   "cell_type": "code",
   "execution_count": 114,
   "metadata": {},
   "outputs": [
    {
     "data": {
      "text/html": [
       "<div>\n",
       "<style scoped>\n",
       "    .dataframe tbody tr th:only-of-type {\n",
       "        vertical-align: middle;\n",
       "    }\n",
       "\n",
       "    .dataframe tbody tr th {\n",
       "        vertical-align: top;\n",
       "    }\n",
       "\n",
       "    .dataframe thead th {\n",
       "        text-align: right;\n",
       "    }\n",
       "</style>\n",
       "<table border=\"1\" class=\"dataframe\">\n",
       "  <thead>\n",
       "    <tr style=\"text-align: right;\">\n",
       "      <th></th>\n",
       "      <th>0</th>\n",
       "    </tr>\n",
       "  </thead>\n",
       "  <tbody>\n",
       "    <tr>\n",
       "      <th>0</th>\n",
       "      <td>-0.150670</td>\n",
       "    </tr>\n",
       "    <tr>\n",
       "      <th>1</th>\n",
       "      <td>-0.024468</td>\n",
       "    </tr>\n",
       "    <tr>\n",
       "      <th>2</th>\n",
       "      <td>-0.233680</td>\n",
       "    </tr>\n",
       "    <tr>\n",
       "      <th>3</th>\n",
       "      <td>-0.233780</td>\n",
       "    </tr>\n",
       "    <tr>\n",
       "      <th>4</th>\n",
       "      <td>-0.183820</td>\n",
       "    </tr>\n",
       "    <tr>\n",
       "      <th>...</th>\n",
       "      <td>...</td>\n",
       "    </tr>\n",
       "    <tr>\n",
       "      <th>295</th>\n",
       "      <td>0.815060</td>\n",
       "    </tr>\n",
       "    <tr>\n",
       "      <th>296</th>\n",
       "      <td>0.038524</td>\n",
       "    </tr>\n",
       "    <tr>\n",
       "      <th>297</th>\n",
       "      <td>0.460040</td>\n",
       "    </tr>\n",
       "    <tr>\n",
       "      <th>298</th>\n",
       "      <td>0.171870</td>\n",
       "    </tr>\n",
       "    <tr>\n",
       "      <th>299</th>\n",
       "      <td>-0.298040</td>\n",
       "    </tr>\n",
       "  </tbody>\n",
       "</table>\n",
       "<p>300 rows × 1 columns</p>\n",
       "</div>"
      ],
      "text/plain": [
       "            0\n",
       "0   -0.150670\n",
       "1   -0.024468\n",
       "2   -0.233680\n",
       "3   -0.233780\n",
       "4   -0.183820\n",
       "..        ...\n",
       "295  0.815060\n",
       "296  0.038524\n",
       "297  0.460040\n",
       "298  0.171870\n",
       "299 -0.298040\n",
       "\n",
       "[300 rows x 1 columns]"
      ]
     },
     "execution_count": 114,
     "metadata": {},
     "output_type": "execute_result"
    }
   ],
   "source": [
    "pd.DataFrame(nlp('cat').vector)"
   ]
  },
  {
   "cell_type": "code",
   "execution_count": 115,
   "metadata": {},
   "outputs": [
    {
     "data": {
      "text/plain": [
       "0.8"
      ]
     },
     "execution_count": 115,
     "metadata": {},
     "output_type": "execute_result"
    }
   ],
   "source": [
    "word1 = nlp('cat')\n",
    "word2 = nlp('dog')\n",
    "round(word1.similarity(word2), 2)"
   ]
  },
  {
   "cell_type": "code",
   "execution_count": 116,
   "metadata": {},
   "outputs": [
    {
     "data": {
      "text/plain": [
       "1.0"
      ]
     },
     "execution_count": 116,
     "metadata": {},
     "output_type": "execute_result"
    }
   ],
   "source": [
    "word1 = nlp('hound')\n",
    "round(word1.similarity(word2), 2)"
   ]
  },
  {
   "cell_type": "code",
   "execution_count": 117,
   "metadata": {},
   "outputs": [
    {
     "data": {
      "text/plain": [
       "0.46"
      ]
     },
     "execution_count": 117,
     "metadata": {},
     "output_type": "execute_result"
    }
   ],
   "source": [
    "word1 = nlp('genius')\n",
    "word2 = nlp('man')\n",
    "round(word1.similarity(word2), 2)"
   ]
  },
  {
   "cell_type": "code",
   "execution_count": 118,
   "metadata": {},
   "outputs": [
    {
     "data": {
      "text/plain": [
       "0.27"
      ]
     },
     "execution_count": 118,
     "metadata": {},
     "output_type": "execute_result"
    }
   ],
   "source": [
    "word1 = nlp('genius')\n",
    "word2 = nlp('woman')\n",
    "round(word1.similarity(word2), 2)"
   ]
  },
  {
   "cell_type": "code",
   "execution_count": 126,
   "metadata": {},
   "outputs": [],
   "source": [
    "def vec(s):\n",
    "    return nlp.vocab[s].vector.reshape(1, -1)\n",
    "\n",
    "new_queen = vec('king') - vec('man') + vec('woman')"
   ]
  },
  {
   "cell_type": "code",
   "execution_count": 131,
   "metadata": {},
   "outputs": [
    {
     "data": {
      "text/plain": [
       "array([[0.7880845]], dtype=float32)"
      ]
     },
     "execution_count": 131,
     "metadata": {},
     "output_type": "execute_result"
    }
   ],
   "source": [
    "from sklearn.metrics.pairwise import cosine_similarity\n",
    "cosine_similarity(new_queen, vec('queen'))"
   ]
  },
  {
   "cell_type": "code",
   "execution_count": null,
   "metadata": {},
   "outputs": [],
   "source": []
  },
  {
   "cell_type": "code",
   "execution_count": null,
   "metadata": {},
   "outputs": [],
   "source": []
  },
  {
   "cell_type": "code",
   "execution_count": null,
   "metadata": {},
   "outputs": [],
   "source": []
  },
  {
   "cell_type": "code",
   "execution_count": null,
   "metadata": {},
   "outputs": [],
   "source": []
  },
  {
   "cell_type": "markdown",
   "metadata": {},
   "source": [
    "----------------"
   ]
  },
  {
   "cell_type": "markdown",
   "metadata": {},
   "source": [
    "## \"Bag of Words\"  \n",
    "### Step 1. Construct a Text Corpus\n",
    "- This is basically what you end up with after all your scraping and cleaning."
   ]
  },
  {
   "cell_type": "code",
   "execution_count": 35,
   "metadata": {},
   "outputs": [],
   "source": [
    "#for i in mj_lyrics_string:\n",
    " #   print(i[0])\n",
    "\n",
    "with open('mj_lyrics_json.txt', 'r') as filehandle:\n",
    "    mj_json = json.load(filehandle)\n",
    "    \n",
    "with open('mc_lyrics_json.txt', 'r') as filehandle:\n",
    "    mc_json = json.load(filehandle)\n",
    "\n",
    "mj_corpus = [i[0] for i in mj_json]\n",
    "mc_corpus = [i[0] for i in mc_json]\n",
    "\n",
    "CORPUS = mj_corpus + mc_corpus"
   ]
  },
  {
   "cell_type": "raw",
   "metadata": {},
   "source": [
    "len(CORPUS)\n",
    "CORPUS[19]\n",
    "new = CORPUS\n",
    "new_print = []\n",
    "for i in range(len(new)):\n",
    "    #(.replace('(\"',''))\n",
    "    new_print.append(new[i].replace(r\"\\n\", \". \"))\n",
    "\n",
    "new_print[0]"
   ]
  },
  {
   "cell_type": "code",
   "execution_count": 36,
   "metadata": {},
   "outputs": [],
   "source": [
    "LABELS = ['michael jackson'] * len(mj_lyrics) + ['mariah carey'] * len(mc_lyrics)"
   ]
  },
  {
   "cell_type": "markdown",
   "metadata": {},
   "source": [
    "### Step 2. Vectorize the text input using the \"Bag of Words\" technique."
   ]
  },
  {
   "cell_type": "code",
   "execution_count": 89,
   "metadata": {},
   "outputs": [
    {
     "data": {
      "text/html": [
       "<div>\n",
       "<style scoped>\n",
       "    .dataframe tbody tr th:only-of-type {\n",
       "        vertical-align: middle;\n",
       "    }\n",
       "\n",
       "    .dataframe tbody tr th {\n",
       "        vertical-align: top;\n",
       "    }\n",
       "\n",
       "    .dataframe thead th {\n",
       "        text-align: right;\n",
       "    }\n",
       "</style>\n",
       "<table border=\"1\" class=\"dataframe\">\n",
       "  <thead>\n",
       "    <tr style=\"text-align: right;\">\n",
       "      <th></th>\n",
       "      <th>100</th>\n",
       "      <th>200</th>\n",
       "      <th>2000</th>\n",
       "      <th>3002</th>\n",
       "      <th>3d</th>\n",
       "      <th>aaahh</th>\n",
       "      <th>add</th>\n",
       "      <th>addicted</th>\n",
       "      <th>adventually</th>\n",
       "      <th>ah</th>\n",
       "      <th>...</th>\n",
       "      <th>writing</th>\n",
       "      <th>wrong</th>\n",
       "      <th>ya</th>\n",
       "      <th>yall</th>\n",
       "      <th>yea</th>\n",
       "      <th>yeaa</th>\n",
       "      <th>yeah</th>\n",
       "      <th>yeahh</th>\n",
       "      <th>yep</th>\n",
       "      <th>yo</th>\n",
       "    </tr>\n",
       "  </thead>\n",
       "  <tbody>\n",
       "    <tr>\n",
       "      <th>michael jackson</th>\n",
       "      <td>0</td>\n",
       "      <td>0</td>\n",
       "      <td>0</td>\n",
       "      <td>0</td>\n",
       "      <td>0</td>\n",
       "      <td>0</td>\n",
       "      <td>0</td>\n",
       "      <td>0</td>\n",
       "      <td>0</td>\n",
       "      <td>0</td>\n",
       "      <td>...</td>\n",
       "      <td>0</td>\n",
       "      <td>0</td>\n",
       "      <td>0</td>\n",
       "      <td>0</td>\n",
       "      <td>0</td>\n",
       "      <td>0</td>\n",
       "      <td>4</td>\n",
       "      <td>0</td>\n",
       "      <td>0</td>\n",
       "      <td>0</td>\n",
       "    </tr>\n",
       "    <tr>\n",
       "      <th>michael jackson</th>\n",
       "      <td>0</td>\n",
       "      <td>0</td>\n",
       "      <td>0</td>\n",
       "      <td>0</td>\n",
       "      <td>0</td>\n",
       "      <td>0</td>\n",
       "      <td>0</td>\n",
       "      <td>0</td>\n",
       "      <td>0</td>\n",
       "      <td>0</td>\n",
       "      <td>...</td>\n",
       "      <td>0</td>\n",
       "      <td>0</td>\n",
       "      <td>0</td>\n",
       "      <td>0</td>\n",
       "      <td>0</td>\n",
       "      <td>0</td>\n",
       "      <td>4</td>\n",
       "      <td>0</td>\n",
       "      <td>0</td>\n",
       "      <td>0</td>\n",
       "    </tr>\n",
       "    <tr>\n",
       "      <th>michael jackson</th>\n",
       "      <td>0</td>\n",
       "      <td>0</td>\n",
       "      <td>0</td>\n",
       "      <td>0</td>\n",
       "      <td>0</td>\n",
       "      <td>0</td>\n",
       "      <td>0</td>\n",
       "      <td>0</td>\n",
       "      <td>0</td>\n",
       "      <td>0</td>\n",
       "      <td>...</td>\n",
       "      <td>0</td>\n",
       "      <td>0</td>\n",
       "      <td>0</td>\n",
       "      <td>0</td>\n",
       "      <td>0</td>\n",
       "      <td>0</td>\n",
       "      <td>4</td>\n",
       "      <td>0</td>\n",
       "      <td>0</td>\n",
       "      <td>0</td>\n",
       "    </tr>\n",
       "    <tr>\n",
       "      <th>michael jackson</th>\n",
       "      <td>0</td>\n",
       "      <td>0</td>\n",
       "      <td>0</td>\n",
       "      <td>0</td>\n",
       "      <td>0</td>\n",
       "      <td>0</td>\n",
       "      <td>0</td>\n",
       "      <td>0</td>\n",
       "      <td>0</td>\n",
       "      <td>0</td>\n",
       "      <td>...</td>\n",
       "      <td>0</td>\n",
       "      <td>1</td>\n",
       "      <td>0</td>\n",
       "      <td>0</td>\n",
       "      <td>0</td>\n",
       "      <td>0</td>\n",
       "      <td>4</td>\n",
       "      <td>0</td>\n",
       "      <td>0</td>\n",
       "      <td>0</td>\n",
       "    </tr>\n",
       "    <tr>\n",
       "      <th>michael jackson</th>\n",
       "      <td>0</td>\n",
       "      <td>8</td>\n",
       "      <td>39</td>\n",
       "      <td>1</td>\n",
       "      <td>8</td>\n",
       "      <td>1</td>\n",
       "      <td>0</td>\n",
       "      <td>0</td>\n",
       "      <td>0</td>\n",
       "      <td>0</td>\n",
       "      <td>...</td>\n",
       "      <td>0</td>\n",
       "      <td>0</td>\n",
       "      <td>0</td>\n",
       "      <td>0</td>\n",
       "      <td>1</td>\n",
       "      <td>1</td>\n",
       "      <td>0</td>\n",
       "      <td>0</td>\n",
       "      <td>0</td>\n",
       "      <td>0</td>\n",
       "    </tr>\n",
       "  </tbody>\n",
       "</table>\n",
       "<p>5 rows × 696 columns</p>\n",
       "</div>"
      ],
      "text/plain": [
       "                 100  200  2000  3002  3d  aaahh  add  addicted  adventually  \\\n",
       "michael jackson    0    0     0     0   0      0    0         0            0   \n",
       "michael jackson    0    0     0     0   0      0    0         0            0   \n",
       "michael jackson    0    0     0     0   0      0    0         0            0   \n",
       "michael jackson    0    0     0     0   0      0    0         0            0   \n",
       "michael jackson    0    8    39     1   8      1    0         0            0   \n",
       "\n",
       "                 ah  ...  writing  wrong  ya  yall  yea  yeaa  yeah  yeahh  \\\n",
       "michael jackson   0  ...        0      0   0     0    0     0     4      0   \n",
       "michael jackson   0  ...        0      0   0     0    0     0     4      0   \n",
       "michael jackson   0  ...        0      0   0     0    0     0     4      0   \n",
       "michael jackson   0  ...        0      1   0     0    0     0     4      0   \n",
       "michael jackson   0  ...        0      0   0     0    1     1     0      0   \n",
       "\n",
       "                 yep  yo  \n",
       "michael jackson    0   0  \n",
       "michael jackson    0   0  \n",
       "michael jackson    0   0  \n",
       "michael jackson    0   0  \n",
       "michael jackson    0   0  \n",
       "\n",
       "[5 rows x 696 columns]"
      ]
     },
     "execution_count": 89,
     "metadata": {},
     "output_type": "execute_result"
    }
   ],
   "source": [
    "import pandas as pd\n",
    "from sklearn.feature_extraction.text import CountVectorizer\n",
    "cv = CountVectorizer(stop_words='english')\n",
    "vec = cv.fit_transform(CORPUS[i] for i in range(len(CORPUS)))\n",
    "pd.DataFrame(vec.todense(), columns = cv.get_feature_names(), index=LABELS).head()"
   ]
  },
  {
   "cell_type": "code",
   "execution_count": 39,
   "metadata": {},
   "outputs": [],
   "source": [
    "#cv.get_stop_words()"
   ]
  },
  {
   "cell_type": "code",
   "execution_count": null,
   "metadata": {},
   "outputs": [],
   "source": []
  },
  {
   "cell_type": "markdown",
   "metadata": {},
   "source": [
    "### Step 3. Apply Tf-Idf Transformation (Normalization)\n",
    "\n",
    "* TF - Term Frequency (% count of a word $w$ in doc $d$)\n",
    "* IDF - Inverse Document Frequency"
   ]
  },
  {
   "cell_type": "code",
   "execution_count": 40,
   "metadata": {},
   "outputs": [],
   "source": [
    "from sklearn.feature_extraction.text import TfidfTransformer"
   ]
  },
  {
   "cell_type": "code",
   "execution_count": 87,
   "metadata": {},
   "outputs": [
    {
     "data": {
      "text/html": [
       "<div>\n",
       "<style scoped>\n",
       "    .dataframe tbody tr th:only-of-type {\n",
       "        vertical-align: middle;\n",
       "    }\n",
       "\n",
       "    .dataframe tbody tr th {\n",
       "        vertical-align: top;\n",
       "    }\n",
       "\n",
       "    .dataframe thead th {\n",
       "        text-align: right;\n",
       "    }\n",
       "</style>\n",
       "<table border=\"1\" class=\"dataframe\">\n",
       "  <thead>\n",
       "    <tr style=\"text-align: right;\">\n",
       "      <th></th>\n",
       "      <th>100</th>\n",
       "      <th>200</th>\n",
       "      <th>2000</th>\n",
       "      <th>3002</th>\n",
       "      <th>3d</th>\n",
       "      <th>aaahh</th>\n",
       "      <th>add</th>\n",
       "      <th>addicted</th>\n",
       "      <th>adventually</th>\n",
       "      <th>ah</th>\n",
       "      <th>...</th>\n",
       "      <th>writing</th>\n",
       "      <th>wrong</th>\n",
       "      <th>ya</th>\n",
       "      <th>yall</th>\n",
       "      <th>yea</th>\n",
       "      <th>yeaa</th>\n",
       "      <th>yeah</th>\n",
       "      <th>yeahh</th>\n",
       "      <th>yep</th>\n",
       "      <th>yo</th>\n",
       "    </tr>\n",
       "  </thead>\n",
       "  <tbody>\n",
       "    <tr>\n",
       "      <th>michael jackson</th>\n",
       "      <td>0.0</td>\n",
       "      <td>0.000000</td>\n",
       "      <td>0.000000</td>\n",
       "      <td>0.000000</td>\n",
       "      <td>0.000000</td>\n",
       "      <td>0.000000</td>\n",
       "      <td>0.0</td>\n",
       "      <td>0.0</td>\n",
       "      <td>0.0</td>\n",
       "      <td>0.0</td>\n",
       "      <td>...</td>\n",
       "      <td>0.0</td>\n",
       "      <td>0.000000</td>\n",
       "      <td>0.0</td>\n",
       "      <td>0.0</td>\n",
       "      <td>0.000000</td>\n",
       "      <td>0.000000</td>\n",
       "      <td>0.061357</td>\n",
       "      <td>0.0</td>\n",
       "      <td>0.0</td>\n",
       "      <td>0.0</td>\n",
       "    </tr>\n",
       "    <tr>\n",
       "      <th>michael jackson</th>\n",
       "      <td>0.0</td>\n",
       "      <td>0.000000</td>\n",
       "      <td>0.000000</td>\n",
       "      <td>0.000000</td>\n",
       "      <td>0.000000</td>\n",
       "      <td>0.000000</td>\n",
       "      <td>0.0</td>\n",
       "      <td>0.0</td>\n",
       "      <td>0.0</td>\n",
       "      <td>0.0</td>\n",
       "      <td>...</td>\n",
       "      <td>0.0</td>\n",
       "      <td>0.000000</td>\n",
       "      <td>0.0</td>\n",
       "      <td>0.0</td>\n",
       "      <td>0.000000</td>\n",
       "      <td>0.000000</td>\n",
       "      <td>0.043760</td>\n",
       "      <td>0.0</td>\n",
       "      <td>0.0</td>\n",
       "      <td>0.0</td>\n",
       "    </tr>\n",
       "    <tr>\n",
       "      <th>michael jackson</th>\n",
       "      <td>0.0</td>\n",
       "      <td>0.000000</td>\n",
       "      <td>0.000000</td>\n",
       "      <td>0.000000</td>\n",
       "      <td>0.000000</td>\n",
       "      <td>0.000000</td>\n",
       "      <td>0.0</td>\n",
       "      <td>0.0</td>\n",
       "      <td>0.0</td>\n",
       "      <td>0.0</td>\n",
       "      <td>...</td>\n",
       "      <td>0.0</td>\n",
       "      <td>0.000000</td>\n",
       "      <td>0.0</td>\n",
       "      <td>0.0</td>\n",
       "      <td>0.000000</td>\n",
       "      <td>0.000000</td>\n",
       "      <td>0.043760</td>\n",
       "      <td>0.0</td>\n",
       "      <td>0.0</td>\n",
       "      <td>0.0</td>\n",
       "    </tr>\n",
       "    <tr>\n",
       "      <th>michael jackson</th>\n",
       "      <td>0.0</td>\n",
       "      <td>0.000000</td>\n",
       "      <td>0.000000</td>\n",
       "      <td>0.000000</td>\n",
       "      <td>0.000000</td>\n",
       "      <td>0.000000</td>\n",
       "      <td>0.0</td>\n",
       "      <td>0.0</td>\n",
       "      <td>0.0</td>\n",
       "      <td>0.0</td>\n",
       "      <td>...</td>\n",
       "      <td>0.0</td>\n",
       "      <td>0.036264</td>\n",
       "      <td>0.0</td>\n",
       "      <td>0.0</td>\n",
       "      <td>0.000000</td>\n",
       "      <td>0.000000</td>\n",
       "      <td>0.076795</td>\n",
       "      <td>0.0</td>\n",
       "      <td>0.0</td>\n",
       "      <td>0.0</td>\n",
       "    </tr>\n",
       "    <tr>\n",
       "      <th>michael jackson</th>\n",
       "      <td>0.0</td>\n",
       "      <td>0.127015</td>\n",
       "      <td>0.619197</td>\n",
       "      <td>0.015877</td>\n",
       "      <td>0.127015</td>\n",
       "      <td>0.015877</td>\n",
       "      <td>0.0</td>\n",
       "      <td>0.0</td>\n",
       "      <td>0.0</td>\n",
       "      <td>0.0</td>\n",
       "      <td>...</td>\n",
       "      <td>0.0</td>\n",
       "      <td>0.000000</td>\n",
       "      <td>0.0</td>\n",
       "      <td>0.0</td>\n",
       "      <td>0.015877</td>\n",
       "      <td>0.015877</td>\n",
       "      <td>0.000000</td>\n",
       "      <td>0.0</td>\n",
       "      <td>0.0</td>\n",
       "      <td>0.0</td>\n",
       "    </tr>\n",
       "  </tbody>\n",
       "</table>\n",
       "<p>5 rows × 696 columns</p>\n",
       "</div>"
      ],
      "text/plain": [
       "                 100       200      2000      3002        3d     aaahh  add  \\\n",
       "michael jackson  0.0  0.000000  0.000000  0.000000  0.000000  0.000000  0.0   \n",
       "michael jackson  0.0  0.000000  0.000000  0.000000  0.000000  0.000000  0.0   \n",
       "michael jackson  0.0  0.000000  0.000000  0.000000  0.000000  0.000000  0.0   \n",
       "michael jackson  0.0  0.000000  0.000000  0.000000  0.000000  0.000000  0.0   \n",
       "michael jackson  0.0  0.127015  0.619197  0.015877  0.127015  0.015877  0.0   \n",
       "\n",
       "                 addicted  adventually   ah  ...  writing     wrong   ya  \\\n",
       "michael jackson       0.0          0.0  0.0  ...      0.0  0.000000  0.0   \n",
       "michael jackson       0.0          0.0  0.0  ...      0.0  0.000000  0.0   \n",
       "michael jackson       0.0          0.0  0.0  ...      0.0  0.000000  0.0   \n",
       "michael jackson       0.0          0.0  0.0  ...      0.0  0.036264  0.0   \n",
       "michael jackson       0.0          0.0  0.0  ...      0.0  0.000000  0.0   \n",
       "\n",
       "                 yall       yea      yeaa      yeah  yeahh  yep   yo  \n",
       "michael jackson   0.0  0.000000  0.000000  0.061357    0.0  0.0  0.0  \n",
       "michael jackson   0.0  0.000000  0.000000  0.043760    0.0  0.0  0.0  \n",
       "michael jackson   0.0  0.000000  0.000000  0.043760    0.0  0.0  0.0  \n",
       "michael jackson   0.0  0.000000  0.000000  0.076795    0.0  0.0  0.0  \n",
       "michael jackson   0.0  0.015877  0.015877  0.000000    0.0  0.0  0.0  \n",
       "\n",
       "[5 rows x 696 columns]"
      ]
     },
     "execution_count": 87,
     "metadata": {},
     "output_type": "execute_result"
    }
   ],
   "source": [
    "tf = TfidfTransformer()\n",
    "vec2 = tf.fit_transform(vec)\n",
    "pd.DataFrame(vec2.todense(), columns = cv.get_feature_names(), index = LABELS).head()"
   ]
  },
  {
   "cell_type": "markdown",
   "metadata": {},
   "source": [
    "### Step 4. Put everything together in a pipeline"
   ]
  },
  {
   "cell_type": "code",
   "execution_count": 42,
   "metadata": {},
   "outputs": [],
   "source": [
    "from sklearn.feature_extraction.text import TfidfVectorizer\n",
    "vectorizer = TfidfVectorizer(stop_words = 'english')\n",
    "X = vectorizer.fit_transform(CORPUS).todense()"
   ]
  },
  {
   "cell_type": "code",
   "execution_count": 43,
   "metadata": {},
   "outputs": [
    {
     "data": {
      "text/plain": [
       "RandomForestClassifier()"
      ]
     },
     "execution_count": 43,
     "metadata": {},
     "output_type": "execute_result"
    }
   ],
   "source": [
    "from sklearn.ensemble import RandomForestClassifier\n",
    "m = RandomForestClassifier()\n",
    "m.fit(X, LABELS)"
   ]
  },
  {
   "cell_type": "code",
   "execution_count": 44,
   "metadata": {},
   "outputs": [
    {
     "data": {
      "text/plain": [
       "1.0"
      ]
     },
     "execution_count": 44,
     "metadata": {},
     "output_type": "execute_result"
    }
   ],
   "source": [
    "m.score(X, LABELS)"
   ]
  },
  {
   "cell_type": "code",
   "execution_count": 45,
   "metadata": {},
   "outputs": [
    {
     "data": {
      "text/plain": [
       "Pipeline(steps=[('tfidfvectorizer', TfidfVectorizer(stop_words='english')),\n",
       "                ('randomforestclassifier',\n",
       "                 RandomForestClassifier(max_depth=10))])"
      ]
     },
     "execution_count": 45,
     "metadata": {},
     "output_type": "execute_result"
    }
   ],
   "source": [
    "#m.predict(['yellow submarine'])\n",
    "\n",
    "from sklearn.pipeline import make_pipeline\n",
    "pipeline = make_pipeline(TfidfVectorizer(stop_words='english'), RandomForestClassifier(max_depth=10))\n",
    "pipeline.fit(CORPUS, LABELS)"
   ]
  },
  {
   "cell_type": "code",
   "execution_count": 46,
   "metadata": {},
   "outputs": [
    {
     "data": {
      "text/plain": [
       "array([[0.83, 0.17]])"
      ]
     },
     "execution_count": 46,
     "metadata": {},
     "output_type": "execute_result"
    }
   ],
   "source": [
    "pipeline.predict_proba(['3002']) #mariah carey is the second one"
   ]
  },
  {
   "cell_type": "code",
   "execution_count": 53,
   "metadata": {},
   "outputs": [
    {
     "data": {
      "text/plain": [
       "array([[0.83, 0.17]])"
      ]
     },
     "execution_count": 53,
     "metadata": {},
     "output_type": "execute_result"
    }
   ],
   "source": [
    "pipeline.predict_proba(['addicted'])"
   ]
  },
  {
   "cell_type": "code",
   "execution_count": 48,
   "metadata": {},
   "outputs": [
    {
     "data": {
      "text/plain": [
       "array([[0.82, 0.18]])"
      ]
     },
     "execution_count": 48,
     "metadata": {},
     "output_type": "execute_result"
    }
   ],
   "source": [
    "pipeline.predict_proba(['bad'])"
   ]
  },
  {
   "cell_type": "code",
   "execution_count": 49,
   "metadata": {},
   "outputs": [
    {
     "data": {
      "text/plain": [
       "array([[0.83, 0.17]])"
      ]
     },
     "execution_count": 49,
     "metadata": {},
     "output_type": "execute_result"
    }
   ],
   "source": [
    "pipeline.predict_proba(['Alexandra']) # same default prediction whether it's chocolate or Alexandra"
   ]
  },
  {
   "cell_type": "code",
   "execution_count": 36,
   "metadata": {},
   "outputs": [],
   "source": [
    "# up sampeling, down sampeling"
   ]
  },
  {
   "cell_type": "markdown",
   "metadata": {},
   "source": [
    "--------------------------"
   ]
  },
  {
   "cell_type": "code",
   "execution_count": null,
   "metadata": {},
   "outputs": [],
   "source": []
  },
  {
   "cell_type": "markdown",
   "metadata": {},
   "source": [
    "# The Naive Bayes Classifier\n",
    "#### A simple, probabilistic classification model built on top of Bayes' Theorem."
   ]
  },
  {
   "cell_type": "markdown",
   "metadata": {},
   "source": [
    "---"
   ]
  },
  {
   "cell_type": "markdown",
   "metadata": {},
   "source": [
    "#### Naive Bayes in Scikit-Learn"
   ]
  },
  {
   "cell_type": "code",
   "execution_count": 75,
   "metadata": {},
   "outputs": [],
   "source": [
    "from sklearn.naive_bayes import ComplementNB"
   ]
  },
  {
   "cell_type": "code",
   "execution_count": 110,
   "metadata": {},
   "outputs": [
    {
     "data": {
      "text/html": [
       "<div>\n",
       "<style scoped>\n",
       "    .dataframe tbody tr th:only-of-type {\n",
       "        vertical-align: middle;\n",
       "    }\n",
       "\n",
       "    .dataframe tbody tr th {\n",
       "        vertical-align: top;\n",
       "    }\n",
       "\n",
       "    .dataframe thead th {\n",
       "        text-align: right;\n",
       "    }\n",
       "</style>\n",
       "<table border=\"1\" class=\"dataframe\">\n",
       "  <thead>\n",
       "    <tr style=\"text-align: right;\">\n",
       "      <th></th>\n",
       "      <th>100</th>\n",
       "      <th>200</th>\n",
       "      <th>2000</th>\n",
       "      <th>3002</th>\n",
       "      <th>3d</th>\n",
       "      <th>aaahh</th>\n",
       "      <th>add</th>\n",
       "      <th>addicted</th>\n",
       "      <th>adventually</th>\n",
       "      <th>ah</th>\n",
       "      <th>...</th>\n",
       "      <th>writing</th>\n",
       "      <th>wrong</th>\n",
       "      <th>ya</th>\n",
       "      <th>yall</th>\n",
       "      <th>yea</th>\n",
       "      <th>yeaa</th>\n",
       "      <th>yeah</th>\n",
       "      <th>yeahh</th>\n",
       "      <th>yep</th>\n",
       "      <th>yo</th>\n",
       "    </tr>\n",
       "  </thead>\n",
       "  <tbody>\n",
       "    <tr>\n",
       "      <th>michael jackson</th>\n",
       "      <td>0</td>\n",
       "      <td>0</td>\n",
       "      <td>0</td>\n",
       "      <td>0</td>\n",
       "      <td>0</td>\n",
       "      <td>0</td>\n",
       "      <td>0</td>\n",
       "      <td>0</td>\n",
       "      <td>0</td>\n",
       "      <td>0</td>\n",
       "      <td>...</td>\n",
       "      <td>0</td>\n",
       "      <td>0</td>\n",
       "      <td>0</td>\n",
       "      <td>0</td>\n",
       "      <td>0</td>\n",
       "      <td>0</td>\n",
       "      <td>4</td>\n",
       "      <td>0</td>\n",
       "      <td>0</td>\n",
       "      <td>0</td>\n",
       "    </tr>\n",
       "    <tr>\n",
       "      <th>michael jackson</th>\n",
       "      <td>0</td>\n",
       "      <td>0</td>\n",
       "      <td>0</td>\n",
       "      <td>0</td>\n",
       "      <td>0</td>\n",
       "      <td>0</td>\n",
       "      <td>0</td>\n",
       "      <td>0</td>\n",
       "      <td>0</td>\n",
       "      <td>0</td>\n",
       "      <td>...</td>\n",
       "      <td>0</td>\n",
       "      <td>0</td>\n",
       "      <td>0</td>\n",
       "      <td>0</td>\n",
       "      <td>0</td>\n",
       "      <td>0</td>\n",
       "      <td>4</td>\n",
       "      <td>0</td>\n",
       "      <td>0</td>\n",
       "      <td>0</td>\n",
       "    </tr>\n",
       "    <tr>\n",
       "      <th>michael jackson</th>\n",
       "      <td>0</td>\n",
       "      <td>0</td>\n",
       "      <td>0</td>\n",
       "      <td>0</td>\n",
       "      <td>0</td>\n",
       "      <td>0</td>\n",
       "      <td>0</td>\n",
       "      <td>0</td>\n",
       "      <td>0</td>\n",
       "      <td>0</td>\n",
       "      <td>...</td>\n",
       "      <td>0</td>\n",
       "      <td>0</td>\n",
       "      <td>0</td>\n",
       "      <td>0</td>\n",
       "      <td>0</td>\n",
       "      <td>0</td>\n",
       "      <td>4</td>\n",
       "      <td>0</td>\n",
       "      <td>0</td>\n",
       "      <td>0</td>\n",
       "    </tr>\n",
       "    <tr>\n",
       "      <th>michael jackson</th>\n",
       "      <td>0</td>\n",
       "      <td>0</td>\n",
       "      <td>0</td>\n",
       "      <td>0</td>\n",
       "      <td>0</td>\n",
       "      <td>0</td>\n",
       "      <td>0</td>\n",
       "      <td>0</td>\n",
       "      <td>0</td>\n",
       "      <td>0</td>\n",
       "      <td>...</td>\n",
       "      <td>0</td>\n",
       "      <td>1</td>\n",
       "      <td>0</td>\n",
       "      <td>0</td>\n",
       "      <td>0</td>\n",
       "      <td>0</td>\n",
       "      <td>4</td>\n",
       "      <td>0</td>\n",
       "      <td>0</td>\n",
       "      <td>0</td>\n",
       "    </tr>\n",
       "    <tr>\n",
       "      <th>michael jackson</th>\n",
       "      <td>0</td>\n",
       "      <td>8</td>\n",
       "      <td>39</td>\n",
       "      <td>1</td>\n",
       "      <td>8</td>\n",
       "      <td>1</td>\n",
       "      <td>0</td>\n",
       "      <td>0</td>\n",
       "      <td>0</td>\n",
       "      <td>0</td>\n",
       "      <td>...</td>\n",
       "      <td>0</td>\n",
       "      <td>0</td>\n",
       "      <td>0</td>\n",
       "      <td>0</td>\n",
       "      <td>1</td>\n",
       "      <td>1</td>\n",
       "      <td>0</td>\n",
       "      <td>0</td>\n",
       "      <td>0</td>\n",
       "      <td>0</td>\n",
       "    </tr>\n",
       "  </tbody>\n",
       "</table>\n",
       "<p>5 rows × 696 columns</p>\n",
       "</div>"
      ],
      "text/plain": [
       "                 100  200  2000  3002  3d  aaahh  add  addicted  adventually  \\\n",
       "michael jackson    0    0     0     0   0      0    0         0            0   \n",
       "michael jackson    0    0     0     0   0      0    0         0            0   \n",
       "michael jackson    0    0     0     0   0      0    0         0            0   \n",
       "michael jackson    0    0     0     0   0      0    0         0            0   \n",
       "michael jackson    0    8    39     1   8      1    0         0            0   \n",
       "\n",
       "                 ah  ...  writing  wrong  ya  yall  yea  yeaa  yeah  yeahh  \\\n",
       "michael jackson   0  ...        0      0   0     0    0     0     4      0   \n",
       "michael jackson   0  ...        0      0   0     0    0     0     4      0   \n",
       "michael jackson   0  ...        0      0   0     0    0     0     4      0   \n",
       "michael jackson   0  ...        0      1   0     0    0     0     4      0   \n",
       "michael jackson   0  ...        0      0   0     0    1     1     0      0   \n",
       "\n",
       "                 yep  yo  \n",
       "michael jackson    0   0  \n",
       "michael jackson    0   0  \n",
       "michael jackson    0   0  \n",
       "michael jackson    0   0  \n",
       "michael jackson    0   0  \n",
       "\n",
       "[5 rows x 696 columns]"
      ]
     },
     "execution_count": 110,
     "metadata": {},
     "output_type": "execute_result"
    }
   ],
   "source": [
    "import pandas as pd\n",
    "from sklearn.feature_extraction.text import CountVectorizer\n",
    "cv = CountVectorizer(stop_words='english')\n",
    "vec = cv.fit_transform(CORPUS[i] for i in range(len(CORPUS)))\n",
    "pd.DataFrame(vec.todense(), columns = cv.get_feature_names(), index=LABELS).head()"
   ]
  },
  {
   "cell_type": "code",
   "execution_count": null,
   "metadata": {},
   "outputs": [],
   "source": []
  },
  {
   "cell_type": "code",
   "execution_count": 60,
   "metadata": {},
   "outputs": [],
   "source": [
    "from sklearn.feature_extraction.text import TfidfVectorizer\n",
    "from sklearn.pipeline import make_pipeline\n",
    "import numpy as np"
   ]
  },
  {
   "cell_type": "code",
   "execution_count": 119,
   "metadata": {},
   "outputs": [],
   "source": [
    "pipeline = make_pipeline(TfidfVectorizer(stop_words='english'), ComplementNB(alpha=0.5))"
   ]
  },
  {
   "cell_type": "code",
   "execution_count": 120,
   "metadata": {},
   "outputs": [
    {
     "data": {
      "text/plain": [
       "Pipeline(steps=[('tfidfvectorizer', TfidfVectorizer(stop_words='english')),\n",
       "                ('complementnb', ComplementNB(alpha=0.5))])"
      ]
     },
     "execution_count": 120,
     "metadata": {},
     "output_type": "execute_result"
    }
   ],
   "source": [
    "pipeline.fit(CORPUS, LABELS)"
   ]
  },
  {
   "cell_type": "code",
   "execution_count": 121,
   "metadata": {},
   "outputs": [
    {
     "data": {
      "text/plain": [
       "array([[0.5863183, 0.4136817]])"
      ]
     },
     "execution_count": 121,
     "metadata": {},
     "output_type": "execute_result"
    }
   ],
   "source": [
    "pipeline.predict_proba(['100']) # first is mariah carey"
   ]
  },
  {
   "cell_type": "code",
   "execution_count": 122,
   "metadata": {},
   "outputs": [
    {
     "data": {
      "text/plain": [
       "array([[0.30658299, 0.69341701]])"
      ]
     },
     "execution_count": 122,
     "metadata": {},
     "output_type": "execute_result"
    }
   ],
   "source": [
    "pipeline.predict_proba(['2000'])"
   ]
  },
  {
   "cell_type": "code",
   "execution_count": 123,
   "metadata": {},
   "outputs": [
    {
     "data": {
      "text/plain": [
       "array([[0.5, 0.5]])"
      ]
     },
     "execution_count": 123,
     "metadata": {},
     "output_type": "execute_result"
    }
   ],
   "source": [
    "pipeline.predict_proba(['tensor tarragons rule']) # ??? "
   ]
  },
  {
   "cell_type": "markdown",
   "metadata": {},
   "source": [
    "---"
   ]
  },
  {
   "cell_type": "code",
   "execution_count": 124,
   "metadata": {},
   "outputs": [],
   "source": [
    "fe = pipeline.named_steps['tfidfvectorizer']\n",
    "nb_model = pipeline.named_steps['complementnb']"
   ]
  },
  {
   "cell_type": "code",
   "execution_count": 125,
   "metadata": {},
   "outputs": [],
   "source": [
    "df = pd.DataFrame(np.exp(nb_model.feature_log_prob_), columns=fe.get_feature_names(), index=['Michael Jackson', 'Mariah Carey']).T"
   ]
  },
  {
   "cell_type": "code",
   "execution_count": 126,
   "metadata": {},
   "outputs": [
    {
     "data": {
      "text/html": [
       "<div>\n",
       "<style scoped>\n",
       "    .dataframe tbody tr th:only-of-type {\n",
       "        vertical-align: middle;\n",
       "    }\n",
       "\n",
       "    .dataframe tbody tr th {\n",
       "        vertical-align: top;\n",
       "    }\n",
       "\n",
       "    .dataframe thead th {\n",
       "        text-align: right;\n",
       "    }\n",
       "</style>\n",
       "<table border=\"1\" class=\"dataframe\">\n",
       "  <thead>\n",
       "    <tr style=\"text-align: right;\">\n",
       "      <th></th>\n",
       "      <th>Michael Jackson</th>\n",
       "      <th>Mariah Carey</th>\n",
       "    </tr>\n",
       "  </thead>\n",
       "  <tbody>\n",
       "    <tr>\n",
       "      <th>100</th>\n",
       "      <td>791.979424</td>\n",
       "      <td>558.787588</td>\n",
       "    </tr>\n",
       "    <tr>\n",
       "      <th>200</th>\n",
       "      <td>631.547587</td>\n",
       "      <td>800.246257</td>\n",
       "    </tr>\n",
       "    <tr>\n",
       "      <th>2000</th>\n",
       "      <td>353.815799</td>\n",
       "      <td>800.246257</td>\n",
       "    </tr>\n",
       "    <tr>\n",
       "      <th>3002</th>\n",
       "      <td>767.605113</td>\n",
       "      <td>800.246257</td>\n",
       "    </tr>\n",
       "    <tr>\n",
       "      <th>3d</th>\n",
       "      <td>631.547587</td>\n",
       "      <td>800.246257</td>\n",
       "    </tr>\n",
       "  </tbody>\n",
       "</table>\n",
       "</div>"
      ],
      "text/plain": [
       "      Michael Jackson  Mariah Carey\n",
       "100        791.979424    558.787588\n",
       "200        631.547587    800.246257\n",
       "2000       353.815799    800.246257\n",
       "3002       767.605113    800.246257\n",
       "3d         631.547587    800.246257"
      ]
     },
     "execution_count": 126,
     "metadata": {},
     "output_type": "execute_result"
    }
   ],
   "source": [
    "df.head()"
   ]
  },
  {
   "cell_type": "code",
   "execution_count": 127,
   "metadata": {},
   "outputs": [],
   "source": [
    "df['diff'] = df['Michael Jackson'] - df['Mariah Carey']"
   ]
  },
  {
   "cell_type": "code",
   "execution_count": 128,
   "metadata": {},
   "outputs": [
    {
     "data": {
      "image/png": "[encoded data removed]",
      "text/plain": [
       "<Figure size 2160x576 with 1 Axes>"
      ]
     },
     "metadata": {
      "needs_background": "light"
     },
     "output_type": "display_data"
    }
   ],
   "source": [
    "df['diff'].sort_values().plot.bar(figsize=(30, 8), fontsize=25);"
   ]
  },
  {
   "cell_type": "code",
   "execution_count": null,
   "metadata": {},
   "outputs": [],
   "source": []
  },
  {
   "cell_type": "code",
   "execution_count": null,
   "metadata": {},
   "outputs": [],
   "source": []
  },
  {
   "cell_type": "code",
   "execution_count": null,
   "metadata": {},
   "outputs": [],
   "source": []
  },
  {
   "cell_type": "code",
   "execution_count": null,
   "metadata": {},
   "outputs": [],
   "source": []
  },
  {
   "cell_type": "code",
   "execution_count": null,
   "metadata": {},
   "outputs": [],
   "source": []
  },
  {
   "cell_type": "markdown",
   "metadata": {},
   "source": [
    "json --> text corpus  \n",
    "clean evenly --> list of strings  \n",
    "train, test split text/lables  \n",
    "\n",
    "single model pipeline:  \n",
    "1) fct transformer (maybe more cleaning, lemm)  \n",
    "2) tfid vectorizer  \n",
    "3) predictive model  \n",
    "\n",
    "apply pipeline to the train (fit, transf), test(transf)"
   ]
  },
  {
   "cell_type": "code",
   "execution_count": null,
   "metadata": {},
   "outputs": [],
   "source": []
  }
 ],
 "metadata": {
  "kernelspec": {
   "display_name": "Python 3",
   "language": "python",
   "name": "python3"
  },
  "language_info": {
   "codemirror_mode": {
    "name": "ipython",
    "version": 3
   },
   "file_extension": ".py",
   "mimetype": "text/x-python",
   "name": "python",
   "nbconvert_exporter": "python",
   "pygments_lexer": "ipython3",
   "version": "3.8.5"
  }
 },
 "nbformat": 4,
 "nbformat_minor": 4
}
